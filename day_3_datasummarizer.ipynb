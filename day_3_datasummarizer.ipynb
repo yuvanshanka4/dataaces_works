{
  "nbformat": 4,
  "nbformat_minor": 0,
  "metadata": {
    "colab": {
      "provenance": [],
      "authorship_tag": "ABX9TyOJEnh8sjA3bypOWBAsSZLb",
      "include_colab_link": true
    },
    "kernelspec": {
      "name": "python3",
      "display_name": "Python 3"
    },
    "language_info": {
      "name": "python"
    }
  },
  "cells": [
    {
      "cell_type": "markdown",
      "metadata": {
        "id": "view-in-github",
        "colab_type": "text"
      },
      "source": [
        "<a href=\"https://colab.research.google.com/github/yuvanshanka4/dataaces_works/blob/main/day_3_datasummarizer.ipynb\" target=\"_parent\"><img src=\"https://colab.research.google.com/assets/colab-badge.svg\" alt=\"Open In Colab\"/></a>"
      ]
    },
    {
      "cell_type": "code",
      "execution_count": null,
      "metadata": {
        "colab": {
          "base_uri": "https://localhost:8080/"
        },
        "id": "qKNZwtQINI8Q",
        "outputId": "e915131c-b719-4ebe-ecc9-fad723b967d7"
      },
      "outputs": [
        {
          "output_type": "stream",
          "name": "stdout",
          "text": [
            "Collecting transformers\n",
            "  Downloading transformers-4.31.0-py3-none-any.whl (7.4 MB)\n",
            "\u001b[2K     \u001b[90m━━━━━━━━━━━━━━━━━━━━━━━━━━━━━━━━━━━━━━━━\u001b[0m \u001b[32m7.4/7.4 MB\u001b[0m \u001b[31m22.4 MB/s\u001b[0m eta \u001b[36m0:00:00\u001b[0m\n",
            "\u001b[?25hRequirement already satisfied: pandas in /usr/local/lib/python3.10/dist-packages (1.5.3)\n",
            "Requirement already satisfied: filelock in /usr/local/lib/python3.10/dist-packages (from transformers) (3.12.2)\n",
            "Collecting huggingface-hub<1.0,>=0.14.1 (from transformers)\n",
            "  Downloading huggingface_hub-0.16.4-py3-none-any.whl (268 kB)\n",
            "\u001b[2K     \u001b[90m━━━━━━━━━━━━━━━━━━━━━━━━━━━━━━━━━━━━━━━\u001b[0m \u001b[32m268.8/268.8 kB\u001b[0m \u001b[31m9.9 MB/s\u001b[0m eta \u001b[36m0:00:00\u001b[0m\n",
            "\u001b[?25hRequirement already satisfied: numpy>=1.17 in /usr/local/lib/python3.10/dist-packages (from transformers) (1.22.4)\n",
            "Requirement already satisfied: packaging>=20.0 in /usr/local/lib/python3.10/dist-packages (from transformers) (23.1)\n",
            "Requirement already satisfied: pyyaml>=5.1 in /usr/local/lib/python3.10/dist-packages (from transformers) (6.0.1)\n",
            "Requirement already satisfied: regex!=2019.12.17 in /usr/local/lib/python3.10/dist-packages (from transformers) (2022.10.31)\n",
            "Requirement already satisfied: requests in /usr/local/lib/python3.10/dist-packages (from transformers) (2.27.1)\n",
            "Collecting tokenizers!=0.11.3,<0.14,>=0.11.1 (from transformers)\n",
            "  Downloading tokenizers-0.13.3-cp310-cp310-manylinux_2_17_x86_64.manylinux2014_x86_64.whl (7.8 MB)\n",
            "\u001b[2K     \u001b[90m━━━━━━━━━━━━━━━━━━━━━━━━━━━━━━━━━━━━━━━━\u001b[0m \u001b[32m7.8/7.8 MB\u001b[0m \u001b[31m34.0 MB/s\u001b[0m eta \u001b[36m0:00:00\u001b[0m\n",
            "\u001b[?25hCollecting safetensors>=0.3.1 (from transformers)\n",
            "  Downloading safetensors-0.3.1-cp310-cp310-manylinux_2_17_x86_64.manylinux2014_x86_64.whl (1.3 MB)\n",
            "\u001b[2K     \u001b[90m━━━━━━━━━━━━━━━━━━━━━━━━━━━━━━━━━━━━━━━━\u001b[0m \u001b[32m1.3/1.3 MB\u001b[0m \u001b[31m41.1 MB/s\u001b[0m eta \u001b[36m0:00:00\u001b[0m\n",
            "\u001b[?25hRequirement already satisfied: tqdm>=4.27 in /usr/local/lib/python3.10/dist-packages (from transformers) (4.65.0)\n",
            "Requirement already satisfied: python-dateutil>=2.8.1 in /usr/local/lib/python3.10/dist-packages (from pandas) (2.8.2)\n",
            "Requirement already satisfied: pytz>=2020.1 in /usr/local/lib/python3.10/dist-packages (from pandas) (2022.7.1)\n",
            "Requirement already satisfied: fsspec in /usr/local/lib/python3.10/dist-packages (from huggingface-hub<1.0,>=0.14.1->transformers) (2023.6.0)\n",
            "Requirement already satisfied: typing-extensions>=3.7.4.3 in /usr/local/lib/python3.10/dist-packages (from huggingface-hub<1.0,>=0.14.1->transformers) (4.7.1)\n",
            "Requirement already satisfied: six>=1.5 in /usr/local/lib/python3.10/dist-packages (from python-dateutil>=2.8.1->pandas) (1.16.0)\n",
            "Requirement already satisfied: urllib3<1.27,>=1.21.1 in /usr/local/lib/python3.10/dist-packages (from requests->transformers) (1.26.16)\n",
            "Requirement already satisfied: certifi>=2017.4.17 in /usr/local/lib/python3.10/dist-packages (from requests->transformers) (2023.7.22)\n",
            "Requirement already satisfied: charset-normalizer~=2.0.0 in /usr/local/lib/python3.10/dist-packages (from requests->transformers) (2.0.12)\n",
            "Requirement already satisfied: idna<4,>=2.5 in /usr/local/lib/python3.10/dist-packages (from requests->transformers) (3.4)\n",
            "Installing collected packages: tokenizers, safetensors, huggingface-hub, transformers\n",
            "Successfully installed huggingface-hub-0.16.4 safetensors-0.3.1 tokenizers-0.13.3 transformers-4.31.0\n"
          ]
        }
      ],
      "source": [
        "!pip install transformers pandas\n"
      ]
    },
    {
      "cell_type": "code",
      "source": [
        "!pip install transformers pandas requests\n"
      ],
      "metadata": {
        "colab": {
          "base_uri": "https://localhost:8080/"
        },
        "id": "oaDfaabrN7q6",
        "outputId": "19d11e7f-5d34-43c3-a0f5-3b04fab73019"
      },
      "execution_count": 5,
      "outputs": [
        {
          "output_type": "stream",
          "name": "stdout",
          "text": [
            "Collecting transformers\n",
            "  Downloading transformers-4.31.0-py3-none-any.whl (7.4 MB)\n",
            "\u001b[2K     \u001b[90m━━━━━━━━━━━━━━━━━━━━━━━━━━━━━━━━━━━━━━━━\u001b[0m \u001b[32m7.4/7.4 MB\u001b[0m \u001b[31m15.1 MB/s\u001b[0m eta \u001b[36m0:00:00\u001b[0m\n",
            "\u001b[?25hRequirement already satisfied: pandas in /usr/local/lib/python3.10/dist-packages (1.5.3)\n",
            "Requirement already satisfied: requests in /usr/local/lib/python3.10/dist-packages (2.27.1)\n",
            "Requirement already satisfied: filelock in /usr/local/lib/python3.10/dist-packages (from transformers) (3.12.2)\n",
            "Collecting huggingface-hub<1.0,>=0.14.1 (from transformers)\n",
            "  Downloading huggingface_hub-0.16.4-py3-none-any.whl (268 kB)\n",
            "\u001b[2K     \u001b[90m━━━━━━━━━━━━━━━━━━━━━━━━━━━━━━━━━━━━━━\u001b[0m \u001b[32m268.8/268.8 kB\u001b[0m \u001b[31m20.1 MB/s\u001b[0m eta \u001b[36m0:00:00\u001b[0m\n",
            "\u001b[?25hRequirement already satisfied: numpy>=1.17 in /usr/local/lib/python3.10/dist-packages (from transformers) (1.22.4)\n",
            "Requirement already satisfied: packaging>=20.0 in /usr/local/lib/python3.10/dist-packages (from transformers) (23.1)\n",
            "Requirement already satisfied: pyyaml>=5.1 in /usr/local/lib/python3.10/dist-packages (from transformers) (6.0.1)\n",
            "Requirement already satisfied: regex!=2019.12.17 in /usr/local/lib/python3.10/dist-packages (from transformers) (2022.10.31)\n",
            "Collecting tokenizers!=0.11.3,<0.14,>=0.11.1 (from transformers)\n",
            "  Downloading tokenizers-0.13.3-cp310-cp310-manylinux_2_17_x86_64.manylinux2014_x86_64.whl (7.8 MB)\n",
            "\u001b[2K     \u001b[90m━━━━━━━━━━━━━━━━━━━━━━━━━━━━━━━━━━━━━━━━\u001b[0m \u001b[32m7.8/7.8 MB\u001b[0m \u001b[31m38.0 MB/s\u001b[0m eta \u001b[36m0:00:00\u001b[0m\n",
            "\u001b[?25hCollecting safetensors>=0.3.1 (from transformers)\n",
            "  Downloading safetensors-0.3.1-cp310-cp310-manylinux_2_17_x86_64.manylinux2014_x86_64.whl (1.3 MB)\n",
            "\u001b[2K     \u001b[90m━━━━━━━━━━━━━━━━━━━━━━━━━━━━━━━━━━━━━━━━\u001b[0m \u001b[32m1.3/1.3 MB\u001b[0m \u001b[31m42.4 MB/s\u001b[0m eta \u001b[36m0:00:00\u001b[0m\n",
            "\u001b[?25hRequirement already satisfied: tqdm>=4.27 in /usr/local/lib/python3.10/dist-packages (from transformers) (4.65.0)\n",
            "Requirement already satisfied: python-dateutil>=2.8.1 in /usr/local/lib/python3.10/dist-packages (from pandas) (2.8.2)\n",
            "Requirement already satisfied: pytz>=2020.1 in /usr/local/lib/python3.10/dist-packages (from pandas) (2022.7.1)\n",
            "Requirement already satisfied: urllib3<1.27,>=1.21.1 in /usr/local/lib/python3.10/dist-packages (from requests) (1.26.16)\n",
            "Requirement already satisfied: certifi>=2017.4.17 in /usr/local/lib/python3.10/dist-packages (from requests) (2023.7.22)\n",
            "Requirement already satisfied: charset-normalizer~=2.0.0 in /usr/local/lib/python3.10/dist-packages (from requests) (2.0.12)\n",
            "Requirement already satisfied: idna<4,>=2.5 in /usr/local/lib/python3.10/dist-packages (from requests) (3.4)\n",
            "Requirement already satisfied: fsspec in /usr/local/lib/python3.10/dist-packages (from huggingface-hub<1.0,>=0.14.1->transformers) (2023.6.0)\n",
            "Requirement already satisfied: typing-extensions>=3.7.4.3 in /usr/local/lib/python3.10/dist-packages (from huggingface-hub<1.0,>=0.14.1->transformers) (4.7.1)\n",
            "Requirement already satisfied: six>=1.5 in /usr/local/lib/python3.10/dist-packages (from python-dateutil>=2.8.1->pandas) (1.16.0)\n",
            "Installing collected packages: tokenizers, safetensors, huggingface-hub, transformers\n",
            "Successfully installed huggingface-hub-0.16.4 safetensors-0.3.1 tokenizers-0.13.3 transformers-4.31.0\n"
          ]
        }
      ]
    },
    {
      "cell_type": "code",
      "source": [
        "from transformers import BartTokenizer, BartForConditionalGeneration\n",
        "\n",
        "# Sample text to summarize\n",
        "text_to_summarize = \"\"\"\n",
        "Renewable energy sources play a crucial role in addressing the growing global energy demand\n",
        "while mitigating environmental challenges. These sustainable sources, such as solar, wind,\n",
        "hydro, geothermal, and biomass, offer clean and abundant alternatives to fossil fuels. As\n",
        "the world grapples with climate change and its consequences, the adoption of renewable\n",
        "energy technologies has gained momentum. Governments, industries, and individuals are\n",
        "increasingly investing in and promoting renewable energy projects, aiming to reduce\n",
        "greenhouse gas emissions and achieve energy security. The integration of advanced\n",
        "technologies, including artificial intelligence, has further enhanced the efficiency and\n",
        "scalability of renewable energy solutions. As we move towards a more sustainable future,\n",
        "the widespread adoption of renewable energy is imperative for a cleaner and greener planet.\n",
        "\"\"\"\n",
        "\n",
        "# Load BART model and tokenizer\n",
        "model = BartForConditionalGeneration.from_pretrained('facebook/bart-large-cnn')\n",
        "tokenizer = BartTokenizer.from_pretrained('facebook/bart-large-cnn')\n",
        "\n",
        "# Tokenize the input text\n",
        "inputs = tokenizer.encode(\"summarize: \" + text_to_summarize, return_tensors=\"pt\", max_length=1024, truncation=True)\n",
        "\n",
        "# Generate the summary\n",
        "summary_ids = model.generate(inputs, max_length=150, min_length=50, length_penalty=2.0, num_beams=4, early_stopping=True)\n",
        "summary = tokenizer.decode(summary_ids[0], skip_special_tokens=True)\n",
        "\n",
        "# Print the summary\n",
        "print(summary)\n"
      ],
      "metadata": {
        "colab": {
          "base_uri": "https://localhost:8080/"
        },
        "id": "1o9xbUMgd1zN",
        "outputId": "190818f7-4477-46d9-e524-82ee06eb4b56"
      },
      "execution_count": null,
      "outputs": [
        {
          "output_type": "stream",
          "name": "stdout",
          "text": [
            "Renewable energy sources play a crucial role in addressing the growing global energy demand. These sources include solar, wind, geothermal, and biomass. As we move towards a more sustainable future, the adoption of renewable energy is imperative for a cleaner and greener planet.\n"
          ]
        }
      ]
    },
    {
      "cell_type": "code",
      "source": [
        "!pip install openpyxl\n",
        "!pip install torch\n"
      ],
      "metadata": {
        "colab": {
          "base_uri": "https://localhost:8080/"
        },
        "id": "OdUjQfgwgi7i",
        "outputId": "f34b3c23-69fe-4a72-f974-9e682462359d"
      },
      "execution_count": 2,
      "outputs": [
        {
          "output_type": "stream",
          "name": "stdout",
          "text": [
            "Requirement already satisfied: openpyxl in /usr/local/lib/python3.10/dist-packages (3.0.10)\n",
            "Requirement already satisfied: et-xmlfile in /usr/local/lib/python3.10/dist-packages (from openpyxl) (1.1.0)\n",
            "Requirement already satisfied: torch in /usr/local/lib/python3.10/dist-packages (2.0.1+cu118)\n",
            "Requirement already satisfied: filelock in /usr/local/lib/python3.10/dist-packages (from torch) (3.12.2)\n",
            "Requirement already satisfied: typing-extensions in /usr/local/lib/python3.10/dist-packages (from torch) (4.7.1)\n",
            "Requirement already satisfied: sympy in /usr/local/lib/python3.10/dist-packages (from torch) (1.11.1)\n",
            "Requirement already satisfied: networkx in /usr/local/lib/python3.10/dist-packages (from torch) (3.1)\n",
            "Requirement already satisfied: jinja2 in /usr/local/lib/python3.10/dist-packages (from torch) (3.1.2)\n",
            "Requirement already satisfied: triton==2.0.0 in /usr/local/lib/python3.10/dist-packages (from torch) (2.0.0)\n",
            "Requirement already satisfied: cmake in /usr/local/lib/python3.10/dist-packages (from triton==2.0.0->torch) (3.25.2)\n",
            "Requirement already satisfied: lit in /usr/local/lib/python3.10/dist-packages (from triton==2.0.0->torch) (16.0.6)\n",
            "Requirement already satisfied: MarkupSafe>=2.0 in /usr/local/lib/python3.10/dist-packages (from jinja2->torch) (2.1.3)\n",
            "Requirement already satisfied: mpmath>=0.19 in /usr/local/lib/python3.10/dist-packages (from sympy->torch) (1.3.0)\n"
          ]
        }
      ]
    },
    {
      "cell_type": "code",
      "source": [
        "\n",
        "\n",
        "# Function to generate the summary for a given text\n",
        "def generate_summary(text_to_summarize):\n",
        "    inputs = tokenizer.encode(\"summarize: \" + text_to_summarize, return_tensors=\"pt\", max_length=1024, truncation=True)\n",
        "    summary_ids = model.generate(inputs, max_length=150, min_length=50, length_penalty=2.0, num_beams=4, early_stopping=True)\n",
        "    summary = tokenizer.decode(summary_ids[0], skip_special_tokens=True)\n",
        "    return summary\n",
        "\n",
        "# Function to read Excel file and fetch text based on ID\n",
        "def get_text_by_id(excel_file, sheet_name, target_id):\n",
        "    df = pd.read_excel(excel_file, sheet_name=sheet_name)\n",
        "    text = df.loc[df['id'] == target_id, 'content'].values[0]\n",
        "    return text\n",
        "\n",
        "# Example usage\n",
        "excel_file_path = \"Dataset1.xlsx\"\n",
        "sheet_name = \"Tablib Dataset\"\n",
        "target_id = int(input(\"enter id\"))  # Replace this with the desired ID you want to summarize\n",
        "\n",
        "text_to_summarize = get_text_by_id(excel_file_path, sheet_name, target_id)\n",
        "summary = generate_summary(text_to_summarize)\n",
        "\n",
        "#print(\"ID:\", target_id)\n",
        "#print(\"Text:\", text_to_summarize)\n",
        "print(\"Summary:\")\n",
        "print(*textwrap.wrap(summary, width=50), sep='\\n')\n",
        "\n",
        "\n"
      ],
      "metadata": {
        "colab": {
          "base_uri": "https://localhost:8080/"
        },
        "id": "iqMtMjSbgV1L",
        "outputId": "cbe6121c-fe85-407c-eead-cfa4b5ff0e12"
      },
      "execution_count": 19,
      "outputs": [
        {
          "output_type": "stream",
          "name": "stdout",
          "text": [
            "enter id68640\n",
            "Summary:\n",
            "Binance Holdings Ltd. said it has received an\n",
            "order from one of Canada's securities regulators.\n",
            "The Ontario Securities Commission served the\n",
            "world's largest digital asset exchange with an\n",
            "investigation order on May 10. Two days later,\n",
            "Binance announced it would be withdrawing from the\n",
            "market, citing new regulatory guidance.\n"
          ]
        }
      ]
    },
    {
      "cell_type": "code",
      "source": [
        "# Load the BART tokenizer and model\n",
        "tokenizer = BartTokenizer.from_pretrained('facebook/bart-large-cnn')\n",
        "model = BartForConditionalGeneration.from_pretrained('facebook/bart-large-cnn')\n",
        "\n",
        "# Function to summarize the text\n",
        "def summarize_text(text):\n",
        "    # Tokenize the input text\n",
        "    inputs = tokenizer(text, max_length=1024, return_tensors='pt', truncation=True)\n",
        "\n",
        "    # Generate the summary\n",
        "    summary_ids = model.generate(inputs['input_ids'], num_beams=4, min_length=30, max_length=150, early_stopping=True)\n",
        "\n",
        "    # Decode the generated summary\n",
        "    summary = tokenizer.decode(summary_ids[0], skip_special_tokens=True)\n",
        "    return summary\n",
        "\n",
        "# Read the Excel file into a DataFrame\n",
        "excel_file_path = '/content/Dataset1.xlsx'\n",
        "df = pd.read_excel(excel_file_path)\n",
        "\n",
        "# Get the \"content\" column as a list\n",
        "content_rows = df['content'].tolist()\n",
        "\n",
        "# Concatenate all content rows into a single text\n",
        "#all_text = \" \".join(str(row) for row in content_rows)\n",
        "\n",
        "# Get the summary\n",
        "for i in range(0,len(content_rows)):\n",
        "  summary_text = summarize_text(content_rows[i])\n",
        "  # Print the summar\n",
        "  print(\"Summary:\")\n",
        "  print(summary_text)\n"
      ],
      "metadata": {
        "id": "hXNe0s-3N7wn",
        "colab": {
          "base_uri": "https://localhost:8080/",
          "height": 1000
        },
        "outputId": "16f4252a-8855-42b2-9e91-8ca696ce895e"
      },
      "execution_count": 9,
      "outputs": [
        {
          "output_type": "stream",
          "name": "stdout",
          "text": [
            "Summary:\n",
            "Anser Advisory is a leading advisory and management company for infrastructure projects in the United States. Sterling Investment Partners, a leading middle market private equity firm, announced the planned sale of Anser to Accenture. Anser's federal consulting business, Markon, will remain a Sterling portfolio company.\n",
            "Summary:\n",
            "Regulators looking at possible mishandling of customer funds by FTX.com and FTX US. Investigation began months ago, before FTX’s current liquidity crisis. WSJ: Binance is “likely’ to end a potential deal to acquire FTX, pending due diligence.\n",
            "Summary:\n",
            "Two-thirds of retailers in the UK have noticed improvements in at least one area of their business sales and performance metrics. Sales conversion was the most common benefit delivered to UK retailers that offered this form of paytech. 63 per cent claim they are still not interested in offering it as a payment method for ‘lack of relevance’\n",
            "Summary:\n",
            "Tether, an asset-backed cryptocurrency stablecoin, has been lending its coins to customers. This adds to the risk that the company may not have enough liquid assets to weather a large redemption event. A bank run exposing liquidity issues is exactly what caused the implosion of cryptocurrency exchange FTX.\n",
            "Summary:\n",
            "Aeros is a fintech platform providing banking and merchant services for underserved businesses. Aeros is one of the first clients Vesto has unveiled since it went live on mainnet last month. The Vesto-powered Aeros App, now provides:Crypto and cashless transactions, payments, and instant settlement.\n",
            "Summary:\n",
            "Freddie Delmotte trainee associate at international law firm Bird & Bird outlines some predictions of the biggest fintech trends businesses should watch out for in 2022. The past few years have seen major disruption, challenges and streamlining of the financial and tech worlds.\n",
            "Summary:\n",
            "Insiders at collapsed Signature Bank sold more than $100 million of shares in the years after the bank pivoted to attract cryptocurrency companies. Sales over the past three years by the bank’s chairman, former chief executive officer and his successor accounted for about half of the amount sold.\n",
            "Summary:\n",
            "Digital bank with $4.1 billion in assets expands fintech offerings. Treasury Prime's industry-leading bank network now totals 15 financial institutions nationwide. First Internet Bank provides consumer and small business deposits, SBA financing, consumer loans and residential mortgages.\n",
            "Summary:\n",
            "Collaboration between banks and fintechs can bring faster speeds to the international payments space. The second Payments Services Directive (PSD2) has helped move things forward in this respect.\n",
            "Summary:\n",
            "Federal Deposit Insurance Corp. officials have been discussing with management ways to avoid a shutdown. One possible option involves lining up crypto-industry investors to help Silvergate shore up its liquidity. The lender hasn’t made a decision on how to deal with its deepening financial turmoil.\n",
            "Summary:\n",
            "Highnote, a fully cloud-native card issuance and program management platform, has expanded its partnership with Visa. This includes full certification as a Visa issuer processor. The company has raised more than $100 million from leading investors and strategic partners.\n",
            "Summary:\n",
            "Central Bank Digital Currencies have dominated fintech headlines since 2020. A full-scale, multiple Central Bank Digital Currency (mCBDC) network could potentially save global corporates up to $100 billion in transaction costs annually. In September 2021, seven Central Banks issued a set of reports intended to build a global consensus.\n",
            "Summary:\n",
            "Digital Currency Group closes its wealth-management division. The Stamford, Connecticut-based firm controls asset manager Grayscale Investments and brokerage Genesis. The company is dealing with changes and challenges within some of its biggest subsidiaries.\n",
            "Summary:\n",
            "A Goldman Sachs report says the fall in crypto prices likely won’t impact the U.S. economy that much. Samuel Bankman-Fried, the crypto billionaire, has put $16 billion into super PACs in April. Social Life Network has rolled out a new QR code add-on application to help mobile retailers accept crypto payments more easily.\n",
            "Summary:\n",
            "Apple reportedly looking to build its own payments and lending infrastructure. The US firm has been busy in the fintech space of late, having acquired Credit Kudos at a reported value of $150 million last month.\n",
            "Summary:\n",
            "Germany seeks to award 1.6 GW of solar in new tender round for 16GW of solar power. The tender is for a total of 1.4 GW of power.\n",
            "Summary:\n",
            "Google must pay $15.1 million in damages for infringing on two patents related to music software. The jury ruled that Google had intentionally infringed on patents, allowing the judge to triple the amount of the prize awarded by the jury. Google says the company is disappointed with the verdict and is preparing to appeal.\n",
            "Summary:\n",
            "Peter Bordes has been a lifelong entrepreneur with more than 30 years of executive and board experience leading private and public companies across the Fintech, AdTech, media and technology sectors. Bordes is the founder and managing partner of Trajectory Capital, a later-stage investing platform and growth fund.\n",
            "Summary:\n",
            "A new legal advisory notice from the Office of Government Ethics disallows federal workers who own crypto from working on policies that could influence the value of their digital assets. The directive applies to all White House staff and the employees of all federal agencies.\n",
            "Summary:\n",
            "The UK and Singapore have signed a Memorandum of Understanding (MoU) to strengthen their fintech cooperation. The MoU builds on the UK-Singapore Digital Economy Agreement signed earlier this year.\n",
            "Summary:\n",
            "Klarna is disputing new research into the buy now, pay later (BNPL) industry published by Barclays. Barclays is calling for stronger regulation of the BNPL sector and other unregulated forms of credit. Klarna is also set to debut its loyalty card feature, backed by mobile wallet provider Stocard, in 2021.\n",
            "Summary:\n",
            "Switzerland-based Financial Stability Board (FSB) could devise the first global framework for cryptoassets, including bitcoin and stablecoins. The European Union is considering a wide-ranging set of standards for authorizing and supervising the crypto sectors.\n",
            "Summary:\n",
            "FTX and its related entities filed for Chapter 11 bankruptcy protection in Delaware federal court on Friday. This means the company can continue operating, while restructuring its debts under court supervision. The bankruptcy filing follows a chaotic week in the crypto market with customers withdrawing around $5billion in just two days.\n",
            "Summary:\n",
            "The FinTech IPO Index was up 8.8% on the week, driven by double-digit percentage point gains for several names tracked by PYMNTS. But the overall performance still has been dismal, down 35.2% for the year.\n",
            "Summary:\n",
            "GoLogiq, Inc. has entered into a non-binding letter of intent to acquire Sydney-based Applied Positive Psychology Learning Institute. APPLI is a global organization that helps people and organizations make positive and sustainable change in mental health and wellbeing.\n",
            "Summary:\n",
            "Australian fintech company Humm Group said on Monday an interim stop order issued by the country's corporate regulator had been revoked. The stop order restricting it from issuing buy-now-pay-later products to new customers was revoked.\n",
            "Summary:\n",
            "US regulators are prying deep into the remnants of failed hedge fund Three Arrows Capital. The fund filed for bankruptcy in July after the broad sell-off in digital assets. The Commodity Futures Trading Commission and the Securities and Exchange Commission are now looking into the firm.\n",
            "Summary:\n",
            "Kueski, the online financial ecosystem for consumers in Mexico, announced that it has disbursed a record 10 million loans. With more than 1.8 million unique customers and more than $1.6 billion in loan transactions, this marks an important milestone for the company.\n",
            "Summary:\n",
            "Three New York City pensions filed shareholder proposals with Mastercard Inc. and American Express Co. They want credit-card companies to improve tracking of gun sales. Clothing, sporting goods stores and transpiration providers have specific MCCs.\n",
            "Summary:\n",
            "All three major American credit bureaus are moving forward with plans to collect BNPL payment data and make it available to lenders. The new data will initially be placed in a portion of the core credit files that’s partitioned from the rest of the reports.\n",
            "Summary:\n",
            "A growing cohort of long-term investors are doubling down on their stashes of bitcoin. The amount of bitcoin held in digital wallets with no outflows for more than five months has been steadily increasing. Bitcoin and ether both posted gains last week.\n",
            "Summary:\n",
            "Central Bank of Turkey Successfully Tests Payment Transactions Using Digital Lira. Central bank plans to run further limited, closed-circuit pilot tests with technology stakeholders during 2023’s first quarter.\n",
            "Summary:\n",
            "Payments Canada continues to move ahead with its Real-Time Rail (RTR) system. Tata Consultancy Services (TCS) will serve as the integration lead. RTR will allow for payments to be sent and received within seconds.\n",
            "Summary:\n",
            "Stablecoins, the safe and strait-laced cousins of crypto, are looking distinctly dicey. Tether, USDC and others lost their prized pegs to the dollar last week. But was it an isolated outburst, or are they losing their soul?\n",
            "Summary:\n",
            "Intel said on Wednesday it would sell one-fifth of its stake in IMS Nanofabrication to private equity firm Bain Capital. The Austrian producer of chipmaking tools is valued at about $4.3 billion.\n",
            "Summary:\n",
            "Web3 payments firm MoonPay is teaming up with LooksRare to allow traders to easily purchase cryptocurrency and NFTs on the platform. MoonPay’s infrastructure aims to help onboard LooksRare customers to Web3.\n",
            "Summary:\n",
            "Businesses race to provide fully digital payment experiences in the business-to-business (B2B) space. Many are adopting a “white-label’ model to seamlessly weave bank-provided financial services into eCommerce providers’ customer experience.\n",
            "Summary:\n",
            "Paytrail, a Finnish online payment company, announced Tuesday (July 5) that its partnership with Mastercard is helping facilitate more than 1 million open banking payments each month. Paytrail and Aiia, an open banking company owned by Mastercard, have been working together since 2019. Aiia recently debuted a “Pay by link’ feature, which allows users to make payments through email, PDF, SMS, a letter or a social media conversation.\n",
            "Summary:\n",
            "Klarna has launched a physical Klarna card in the UK, letting consumers ‘pay later’ for their purchases everywhere in physical stores. The card will launch with Klarna’s ‘Pay in 30’ product, which allows consumers to delay payments for up to 30 days. Klarna is a fully licensed bank and offers regulated and unregulated credit products.\n",
            "Summary:\n",
            "The Office of the Superintendent of Financial Institutions (OSFI), the Financial Consumer Agency of Canada (FCAC) and the Canada Deposit Insurance Corporation (CDIC) issued a joint statement supporting the principle of “same activity, same risk, same regulation” The statement follows prior statements by OSFI, including the Interim arrangements for the regulatory capital and liquidity treatment of crypto-asset exposures.\n",
            "Summary:\n",
            "The plants will be located in the reservoirs of Ferreira do Alentejo, Almeidas, Pias, Penedrão, and Monte Novo. The five projects will have a combined capacity of 4.5 MW and require a total investment of around €4.3 million ($4.6 million)\n",
            "Summary:\n",
            "Walmart has begun rolling out banking services through One to at least some workers, according to a memo posted in late October on Walmart's internal network. Walmart staffers who sign up for One through the Me@Walmart employee app will be eligible to receive their paychecks up to two days early via direct deposit. Walmart also singled out the ability for employees to make fee-free cash withdrawals at Walmart Money Centers through One.\n",
            "Summary:\n",
            "FCA has warned firms against promoting unapproved BNPL products. Unauthorised firms face criminal charges if they do not have an FCA-authorised firm approve their financial promotions. Authorised firms must also ensure that all promotional advertising comply with the FCA guidelines.\n",
            "Summary:\n",
            "Two Calgary-based financial technology companies, Fillip and Miq, were announced as the winners of the inaugural Digital Commerce Bank Calgary Fintech Award on October 14, 2022. The winners cumulatively took home prizes of over $300,000 in non-dilutive cash.\n",
            "Summary:\n",
            "SEC Compounds Crypto Confusion With Coinbase Case. Law360 provides the intelligence you need to remain an expert and beat the competition. Access to case data within articles (numbers, filings, courts, nature of suit, and more)\n",
            "Summary:\n",
            "The Monetary and Banking Research Institute of Iran has completed preliminary research for a potential digital rial. The \"crypto rial,\" pegged to the national currency at a 1:1 ratio, reportedly runs on a platform called Borna, which was developed using Hyperledger Fabric.\n",
            "Summary:\n",
            "Rep. Raja Krishnamoorthi (D-Unwell) wrote to Treasury Secretary Janet L. Yellen, Securities and Alternate Fee Chair Gary Gensler, Federal Commerce Fee Chair Lina Khan, and Commodity Futures Buying and selling Fee Chair Rostin Behnam. He said the federal authorities “has been sluggish to curb cryptocurrency scams and fraud’\n",
            "Summary:\n",
            "Decentralized finance, better known as DeFi, is the hottest segment of cryptocurrency right now. More than two dozen cryptocurrencies crashed last weekend, dropping as much as 70%.\n",
            "Summary:\n",
            "WonderFi has entered into a definitive agreement to acquire Toronto’s Coinberry for approximately $38.5 million CAD in WonderFi stock. The deal is expected to close in the 2nd quarter. WonderFi claims this will make it “one of the largest ecosystems of crypto participants’ in North America.\n",
            "Summary:\n",
            "By 2025, Intel expects this transition to reduce annual costs by $8 billion to $10 billion. By 2030, Intel aims to become the second-largest contract chipmaker in the world, including third-party orders.\n",
            "Summary:\n",
            "New fintech entrants continue to get into the BNPL game, while established players scramble to offer their own services. One estimate pegs the number of BN PL providers currently existing today at 170. “There are not many ‘blue ocean’ opportunities left,” says Cornerstone Advisors' Alex Johnson.\n",
            "Summary:\n",
            "The 25th Annual Needham Growth Conference is being held January 10 – 12, 2023 at The Lotte New York Palace in New York City. Applied Digital management will be hosting one-on-one meetings with investors. The live and archived webcast of the presentation will be available here and on the Company’s investor relations website.\n",
            "Summary:\n",
            "TerraUSD, or UST, started losing its dollar peg over the weekend. It dropped as low as $0.85 this morning, down 99% with a market cap approaching $500,000. Unlike other top stablecoins like Tether, USD Coin, and BinanceUSD, UST was not backed by hard assets.\n",
            "Summary:\n",
            "UPMC paid $8.5 million in a settlement agreement for what federal officials said were false claims to Medicare. Luketich will still have clinical responsibilities and be the Henry T. Bahnson Chair in Cardiothoracic Surgery.\n",
            "Summary:\n",
            "Tether says it made a $700 million \"net profit\" in the December quarter. The company says it has added the money to its reserves. Tether is the issuer of USDT, the world's largest stablecoin by market capitalization.\n",
            "Summary:\n",
            "Afterpay (13.9%), Zip (9.7%), Klarna (8.1%) and Affirm (6.5%) are performing badly. On average for every $1 Bn of processing volume BNPLs write down $19.2 m of bad debt, major credit card schemes write down just $270k.\n",
            "Summary:\n",
            "Researchers at the Chinese Academy of Sciences have successfully created foldable crystalline silicon (c-Si) wafers for use in flexible silicon heterojunction (HJT) solar cells. HJT cell technology is ideal for making flexible solar cells, as it eliminates edge warping caused by inner stress during the firing process.\n",
            "Summary:\n",
            "\"All these failures are very serious,\" says European Commission official. \"We don't see them as failures of blockchain or crypto assets per se,\" adds Alexandra Jour-Schroeder.\n",
            "Summary:\n",
            "The mobile payment security market was valued at US$ 1.1 Tn in 2022. It is predicted to reach US$ 7.8 Tn by 2032, growing at a 21.5% CAGR. One of the key factors driving the growth of the mobile payment. security industry is the increasing frequency of data breaches.\n",
            "Summary:\n",
            "The market opportunity in this sector is expected to exceed $7 trillion by the decade’s end. Look for more tools such as point-of-sale loans, insurance or rewards products that produce more impact.\n",
            "Summary:\n",
            "The FTX bankruptcy is a foretaste of what may be to come. Bernie Madoff’s investment firm finally collapsed during the nadir of the global financial crisis in 2008. The Enron Corp. and WorldCom Inc. scandals both blew up in the years after the bursting of the dotcom bubble.\n",
            "Summary:\n",
            "The group of professionals billed a total of $38 million plus expenses for their services in January. The three firms collectively have over 180 lawyers and 50 non-lawyer staff.\n",
            "Summary:\n",
            "US fintechs Brex and MX announce layoffs this year. Brex will lay off 136 employees – approximately 11% of its total workforce. Utah-based MX has laid off an undisclosed number of employees.\n",
            "Summary:\n",
            "European Securities and Markets Authorities (ESMA) has issued requests to companies to provide trading data on crypto asset transactions. Ether ‘flips’ bitcoin options - is a full flippening around the corner? Talk of The Merge has put a lot of speculation on whether ether is capable of overturning bitcoin. Aave DAO has approved the launch of a stablecoin, named GHO, for the protocol.\n",
            "Summary:\n",
            "U.S. e-commerce sales hit $250 billion in Q1 of 2022, a 6.6% increase from the previous year. The US may be on track to record its highest annual online sales ever. China's online sales supremacy is about to be knocked off its pedestal. Fintech is at the intersection of fintech and retail.\n",
            "Summary:\n",
            "The Federal Deposit Insurance Corporation (FDIC) issued an advisory letter to a United States-based neobank. The FDIC demanded that the company immediately cease and desist.\n",
            "Summary:\n",
            "FIS’ 2022 Global Payments Report found that BNPL accounted for 8.1% of Europe’s regional e-commerce transaction value in 2021. Digital wallets in Spain accounted for 30.3% in 2021, overtaking credit cards. Juniper predicts that digital wallet users will exceed 4.4 billion globally by 2025, as mobile drives digital payments revolution.\n",
            "Summary:\n",
            "Bavarian Nordic’s RSV candidate failed to meet all the primary endpoints in the study, leading to the termination of the programme. Shares in Bavarian Nordic fell 29% at market open on Monday 24 July compared to the pre-announcement market close on Friday 21 July.\n",
            "Summary:\n",
            "IMF says fast-growing finechs pose challenges for both regulators and less technologically advanced banks. UK regulators publish slew of papers on cryptoasset regulation.\n"
          ]
        },
        {
          "output_type": "error",
          "ename": "KeyboardInterrupt",
          "evalue": "ignored",
          "traceback": [
            "\u001b[0;31m---------------------------------------------------------------------------\u001b[0m",
            "\u001b[0;31mKeyboardInterrupt\u001b[0m                         Traceback (most recent call last)",
            "\u001b[0;32m<ipython-input-9-28ae13c663d9>\u001b[0m in \u001b[0;36m<cell line: 28>\u001b[0;34m()\u001b[0m\n\u001b[1;32m     27\u001b[0m \u001b[0;31m# Get the summary\u001b[0m\u001b[0;34m\u001b[0m\u001b[0;34m\u001b[0m\u001b[0m\n\u001b[1;32m     28\u001b[0m \u001b[0;32mfor\u001b[0m \u001b[0mi\u001b[0m \u001b[0;32min\u001b[0m \u001b[0mrange\u001b[0m\u001b[0;34m(\u001b[0m\u001b[0;36m0\u001b[0m\u001b[0;34m,\u001b[0m\u001b[0mlen\u001b[0m\u001b[0;34m(\u001b[0m\u001b[0mcontent_rows\u001b[0m\u001b[0;34m)\u001b[0m\u001b[0;34m)\u001b[0m\u001b[0;34m:\u001b[0m\u001b[0;34m\u001b[0m\u001b[0;34m\u001b[0m\u001b[0m\n\u001b[0;32m---> 29\u001b[0;31m   \u001b[0msummary_text\u001b[0m \u001b[0;34m=\u001b[0m \u001b[0msummarize_text\u001b[0m\u001b[0;34m(\u001b[0m\u001b[0mcontent_rows\u001b[0m\u001b[0;34m[\u001b[0m\u001b[0mi\u001b[0m\u001b[0;34m]\u001b[0m\u001b[0;34m)\u001b[0m\u001b[0;34m\u001b[0m\u001b[0;34m\u001b[0m\u001b[0m\n\u001b[0m\u001b[1;32m     30\u001b[0m   \u001b[0;31m# Print the summar\u001b[0m\u001b[0;34m\u001b[0m\u001b[0;34m\u001b[0m\u001b[0m\n\u001b[1;32m     31\u001b[0m   \u001b[0mprint\u001b[0m\u001b[0;34m(\u001b[0m\u001b[0;34m\"Summary:\"\u001b[0m\u001b[0;34m)\u001b[0m\u001b[0;34m\u001b[0m\u001b[0;34m\u001b[0m\u001b[0m\n",
            "\u001b[0;32m<ipython-input-9-28ae13c663d9>\u001b[0m in \u001b[0;36msummarize_text\u001b[0;34m(text)\u001b[0m\n\u001b[1;32m      9\u001b[0m \u001b[0;34m\u001b[0m\u001b[0m\n\u001b[1;32m     10\u001b[0m     \u001b[0;31m# Generate the summary\u001b[0m\u001b[0;34m\u001b[0m\u001b[0;34m\u001b[0m\u001b[0m\n\u001b[0;32m---> 11\u001b[0;31m     \u001b[0msummary_ids\u001b[0m \u001b[0;34m=\u001b[0m \u001b[0mmodel\u001b[0m\u001b[0;34m.\u001b[0m\u001b[0mgenerate\u001b[0m\u001b[0;34m(\u001b[0m\u001b[0minputs\u001b[0m\u001b[0;34m[\u001b[0m\u001b[0;34m'input_ids'\u001b[0m\u001b[0;34m]\u001b[0m\u001b[0;34m,\u001b[0m \u001b[0mnum_beams\u001b[0m\u001b[0;34m=\u001b[0m\u001b[0;36m4\u001b[0m\u001b[0;34m,\u001b[0m \u001b[0mmin_length\u001b[0m\u001b[0;34m=\u001b[0m\u001b[0;36m30\u001b[0m\u001b[0;34m,\u001b[0m \u001b[0mmax_length\u001b[0m\u001b[0;34m=\u001b[0m\u001b[0;36m150\u001b[0m\u001b[0;34m,\u001b[0m \u001b[0mearly_stopping\u001b[0m\u001b[0;34m=\u001b[0m\u001b[0;32mTrue\u001b[0m\u001b[0;34m)\u001b[0m\u001b[0;34m\u001b[0m\u001b[0;34m\u001b[0m\u001b[0m\n\u001b[0m\u001b[1;32m     12\u001b[0m \u001b[0;34m\u001b[0m\u001b[0m\n\u001b[1;32m     13\u001b[0m     \u001b[0;31m# Decode the generated summary\u001b[0m\u001b[0;34m\u001b[0m\u001b[0;34m\u001b[0m\u001b[0m\n",
            "\u001b[0;32m/usr/local/lib/python3.10/dist-packages/torch/utils/_contextlib.py\u001b[0m in \u001b[0;36mdecorate_context\u001b[0;34m(*args, **kwargs)\u001b[0m\n\u001b[1;32m    113\u001b[0m     \u001b[0;32mdef\u001b[0m \u001b[0mdecorate_context\u001b[0m\u001b[0;34m(\u001b[0m\u001b[0;34m*\u001b[0m\u001b[0margs\u001b[0m\u001b[0;34m,\u001b[0m \u001b[0;34m**\u001b[0m\u001b[0mkwargs\u001b[0m\u001b[0;34m)\u001b[0m\u001b[0;34m:\u001b[0m\u001b[0;34m\u001b[0m\u001b[0;34m\u001b[0m\u001b[0m\n\u001b[1;32m    114\u001b[0m         \u001b[0;32mwith\u001b[0m \u001b[0mctx_factory\u001b[0m\u001b[0;34m(\u001b[0m\u001b[0;34m)\u001b[0m\u001b[0;34m:\u001b[0m\u001b[0;34m\u001b[0m\u001b[0;34m\u001b[0m\u001b[0m\n\u001b[0;32m--> 115\u001b[0;31m             \u001b[0;32mreturn\u001b[0m \u001b[0mfunc\u001b[0m\u001b[0;34m(\u001b[0m\u001b[0;34m*\u001b[0m\u001b[0margs\u001b[0m\u001b[0;34m,\u001b[0m \u001b[0;34m**\u001b[0m\u001b[0mkwargs\u001b[0m\u001b[0;34m)\u001b[0m\u001b[0;34m\u001b[0m\u001b[0;34m\u001b[0m\u001b[0m\n\u001b[0m\u001b[1;32m    116\u001b[0m \u001b[0;34m\u001b[0m\u001b[0m\n\u001b[1;32m    117\u001b[0m     \u001b[0;32mreturn\u001b[0m \u001b[0mdecorate_context\u001b[0m\u001b[0;34m\u001b[0m\u001b[0;34m\u001b[0m\u001b[0m\n",
            "\u001b[0;32m/usr/local/lib/python3.10/dist-packages/transformers/generation/utils.py\u001b[0m in \u001b[0;36mgenerate\u001b[0;34m(self, inputs, generation_config, logits_processor, stopping_criteria, prefix_allowed_tokens_fn, synced_gpus, assistant_model, streamer, **kwargs)\u001b[0m\n\u001b[1;32m   1343\u001b[0m             \u001b[0;31m# if model is encoder decoder encoder_outputs are created\u001b[0m\u001b[0;34m\u001b[0m\u001b[0;34m\u001b[0m\u001b[0m\n\u001b[1;32m   1344\u001b[0m             \u001b[0;31m# and added to `model_kwargs`\u001b[0m\u001b[0;34m\u001b[0m\u001b[0;34m\u001b[0m\u001b[0m\n\u001b[0;32m-> 1345\u001b[0;31m             model_kwargs = self._prepare_encoder_decoder_kwargs_for_generation(\n\u001b[0m\u001b[1;32m   1346\u001b[0m                 \u001b[0minputs_tensor\u001b[0m\u001b[0;34m,\u001b[0m \u001b[0mmodel_kwargs\u001b[0m\u001b[0;34m,\u001b[0m \u001b[0mmodel_input_name\u001b[0m\u001b[0;34m\u001b[0m\u001b[0;34m\u001b[0m\u001b[0m\n\u001b[1;32m   1347\u001b[0m             )\n",
            "\u001b[0;32m/usr/local/lib/python3.10/dist-packages/transformers/generation/utils.py\u001b[0m in \u001b[0;36m_prepare_encoder_decoder_kwargs_for_generation\u001b[0;34m(self, inputs_tensor, model_kwargs, model_input_name)\u001b[0m\n\u001b[1;32m    642\u001b[0m         \u001b[0mencoder_kwargs\u001b[0m\u001b[0;34m[\u001b[0m\u001b[0;34m\"return_dict\"\u001b[0m\u001b[0;34m]\u001b[0m \u001b[0;34m=\u001b[0m \u001b[0;32mTrue\u001b[0m\u001b[0;34m\u001b[0m\u001b[0;34m\u001b[0m\u001b[0m\n\u001b[1;32m    643\u001b[0m         \u001b[0mencoder_kwargs\u001b[0m\u001b[0;34m[\u001b[0m\u001b[0mmodel_input_name\u001b[0m\u001b[0;34m]\u001b[0m \u001b[0;34m=\u001b[0m \u001b[0minputs_tensor\u001b[0m\u001b[0;34m\u001b[0m\u001b[0;34m\u001b[0m\u001b[0m\n\u001b[0;32m--> 644\u001b[0;31m         \u001b[0mmodel_kwargs\u001b[0m\u001b[0;34m[\u001b[0m\u001b[0;34m\"encoder_outputs\"\u001b[0m\u001b[0;34m]\u001b[0m\u001b[0;34m:\u001b[0m \u001b[0mModelOutput\u001b[0m \u001b[0;34m=\u001b[0m \u001b[0mencoder\u001b[0m\u001b[0;34m(\u001b[0m\u001b[0;34m**\u001b[0m\u001b[0mencoder_kwargs\u001b[0m\u001b[0;34m)\u001b[0m\u001b[0;34m\u001b[0m\u001b[0;34m\u001b[0m\u001b[0m\n\u001b[0m\u001b[1;32m    645\u001b[0m \u001b[0;34m\u001b[0m\u001b[0m\n\u001b[1;32m    646\u001b[0m         \u001b[0;32mreturn\u001b[0m \u001b[0mmodel_kwargs\u001b[0m\u001b[0;34m\u001b[0m\u001b[0;34m\u001b[0m\u001b[0m\n",
            "\u001b[0;32m/usr/local/lib/python3.10/dist-packages/torch/nn/modules/module.py\u001b[0m in \u001b[0;36m_call_impl\u001b[0;34m(self, *args, **kwargs)\u001b[0m\n\u001b[1;32m   1499\u001b[0m                 \u001b[0;32mor\u001b[0m \u001b[0m_global_backward_pre_hooks\u001b[0m \u001b[0;32mor\u001b[0m \u001b[0m_global_backward_hooks\u001b[0m\u001b[0;34m\u001b[0m\u001b[0;34m\u001b[0m\u001b[0m\n\u001b[1;32m   1500\u001b[0m                 or _global_forward_hooks or _global_forward_pre_hooks):\n\u001b[0;32m-> 1501\u001b[0;31m             \u001b[0;32mreturn\u001b[0m \u001b[0mforward_call\u001b[0m\u001b[0;34m(\u001b[0m\u001b[0;34m*\u001b[0m\u001b[0margs\u001b[0m\u001b[0;34m,\u001b[0m \u001b[0;34m**\u001b[0m\u001b[0mkwargs\u001b[0m\u001b[0;34m)\u001b[0m\u001b[0;34m\u001b[0m\u001b[0;34m\u001b[0m\u001b[0m\n\u001b[0m\u001b[1;32m   1502\u001b[0m         \u001b[0;31m# Do not call functions when jit is used\u001b[0m\u001b[0;34m\u001b[0m\u001b[0;34m\u001b[0m\u001b[0m\n\u001b[1;32m   1503\u001b[0m         \u001b[0mfull_backward_hooks\u001b[0m\u001b[0;34m,\u001b[0m \u001b[0mnon_full_backward_hooks\u001b[0m \u001b[0;34m=\u001b[0m \u001b[0;34m[\u001b[0m\u001b[0;34m]\u001b[0m\u001b[0;34m,\u001b[0m \u001b[0;34m[\u001b[0m\u001b[0;34m]\u001b[0m\u001b[0;34m\u001b[0m\u001b[0;34m\u001b[0m\u001b[0m\n",
            "\u001b[0;32m/usr/local/lib/python3.10/dist-packages/transformers/models/bart/modeling_bart.py\u001b[0m in \u001b[0;36mforward\u001b[0;34m(self, input_ids, attention_mask, head_mask, inputs_embeds, output_attentions, output_hidden_states, return_dict)\u001b[0m\n\u001b[1;32m    861\u001b[0m                     )\n\u001b[1;32m    862\u001b[0m                 \u001b[0;32melse\u001b[0m\u001b[0;34m:\u001b[0m\u001b[0;34m\u001b[0m\u001b[0;34m\u001b[0m\u001b[0m\n\u001b[0;32m--> 863\u001b[0;31m                     layer_outputs = encoder_layer(\n\u001b[0m\u001b[1;32m    864\u001b[0m                         \u001b[0mhidden_states\u001b[0m\u001b[0;34m,\u001b[0m\u001b[0;34m\u001b[0m\u001b[0;34m\u001b[0m\u001b[0m\n\u001b[1;32m    865\u001b[0m                         \u001b[0mattention_mask\u001b[0m\u001b[0;34m,\u001b[0m\u001b[0;34m\u001b[0m\u001b[0;34m\u001b[0m\u001b[0m\n",
            "\u001b[0;32m/usr/local/lib/python3.10/dist-packages/torch/nn/modules/module.py\u001b[0m in \u001b[0;36m_call_impl\u001b[0;34m(self, *args, **kwargs)\u001b[0m\n\u001b[1;32m   1499\u001b[0m                 \u001b[0;32mor\u001b[0m \u001b[0m_global_backward_pre_hooks\u001b[0m \u001b[0;32mor\u001b[0m \u001b[0m_global_backward_hooks\u001b[0m\u001b[0;34m\u001b[0m\u001b[0;34m\u001b[0m\u001b[0m\n\u001b[1;32m   1500\u001b[0m                 or _global_forward_hooks or _global_forward_pre_hooks):\n\u001b[0;32m-> 1501\u001b[0;31m             \u001b[0;32mreturn\u001b[0m \u001b[0mforward_call\u001b[0m\u001b[0;34m(\u001b[0m\u001b[0;34m*\u001b[0m\u001b[0margs\u001b[0m\u001b[0;34m,\u001b[0m \u001b[0;34m**\u001b[0m\u001b[0mkwargs\u001b[0m\u001b[0;34m)\u001b[0m\u001b[0;34m\u001b[0m\u001b[0;34m\u001b[0m\u001b[0m\n\u001b[0m\u001b[1;32m   1502\u001b[0m         \u001b[0;31m# Do not call functions when jit is used\u001b[0m\u001b[0;34m\u001b[0m\u001b[0;34m\u001b[0m\u001b[0m\n\u001b[1;32m   1503\u001b[0m         \u001b[0mfull_backward_hooks\u001b[0m\u001b[0;34m,\u001b[0m \u001b[0mnon_full_backward_hooks\u001b[0m \u001b[0;34m=\u001b[0m \u001b[0;34m[\u001b[0m\u001b[0;34m]\u001b[0m\u001b[0;34m,\u001b[0m \u001b[0;34m[\u001b[0m\u001b[0;34m]\u001b[0m\u001b[0;34m\u001b[0m\u001b[0;34m\u001b[0m\u001b[0m\n",
            "\u001b[0;32m/usr/local/lib/python3.10/dist-packages/transformers/models/bart/modeling_bart.py\u001b[0m in \u001b[0;36mforward\u001b[0;34m(self, hidden_states, attention_mask, layer_head_mask, output_attentions)\u001b[0m\n\u001b[1;32m    330\u001b[0m         \"\"\"\n\u001b[1;32m    331\u001b[0m         \u001b[0mresidual\u001b[0m \u001b[0;34m=\u001b[0m \u001b[0mhidden_states\u001b[0m\u001b[0;34m\u001b[0m\u001b[0;34m\u001b[0m\u001b[0m\n\u001b[0;32m--> 332\u001b[0;31m         hidden_states, attn_weights, _ = self.self_attn(\n\u001b[0m\u001b[1;32m    333\u001b[0m             \u001b[0mhidden_states\u001b[0m\u001b[0;34m=\u001b[0m\u001b[0mhidden_states\u001b[0m\u001b[0;34m,\u001b[0m\u001b[0;34m\u001b[0m\u001b[0;34m\u001b[0m\u001b[0m\n\u001b[1;32m    334\u001b[0m             \u001b[0mattention_mask\u001b[0m\u001b[0;34m=\u001b[0m\u001b[0mattention_mask\u001b[0m\u001b[0;34m,\u001b[0m\u001b[0;34m\u001b[0m\u001b[0;34m\u001b[0m\u001b[0m\n",
            "\u001b[0;32m/usr/local/lib/python3.10/dist-packages/torch/nn/modules/module.py\u001b[0m in \u001b[0;36m_call_impl\u001b[0;34m(self, *args, **kwargs)\u001b[0m\n\u001b[1;32m   1499\u001b[0m                 \u001b[0;32mor\u001b[0m \u001b[0m_global_backward_pre_hooks\u001b[0m \u001b[0;32mor\u001b[0m \u001b[0m_global_backward_hooks\u001b[0m\u001b[0;34m\u001b[0m\u001b[0;34m\u001b[0m\u001b[0m\n\u001b[1;32m   1500\u001b[0m                 or _global_forward_hooks or _global_forward_pre_hooks):\n\u001b[0;32m-> 1501\u001b[0;31m             \u001b[0;32mreturn\u001b[0m \u001b[0mforward_call\u001b[0m\u001b[0;34m(\u001b[0m\u001b[0;34m*\u001b[0m\u001b[0margs\u001b[0m\u001b[0;34m,\u001b[0m \u001b[0;34m**\u001b[0m\u001b[0mkwargs\u001b[0m\u001b[0;34m)\u001b[0m\u001b[0;34m\u001b[0m\u001b[0;34m\u001b[0m\u001b[0m\n\u001b[0m\u001b[1;32m   1502\u001b[0m         \u001b[0;31m# Do not call functions when jit is used\u001b[0m\u001b[0;34m\u001b[0m\u001b[0;34m\u001b[0m\u001b[0m\n\u001b[1;32m   1503\u001b[0m         \u001b[0mfull_backward_hooks\u001b[0m\u001b[0;34m,\u001b[0m \u001b[0mnon_full_backward_hooks\u001b[0m \u001b[0;34m=\u001b[0m \u001b[0;34m[\u001b[0m\u001b[0;34m]\u001b[0m\u001b[0;34m,\u001b[0m \u001b[0;34m[\u001b[0m\u001b[0;34m]\u001b[0m\u001b[0;34m\u001b[0m\u001b[0;34m\u001b[0m\u001b[0m\n",
            "\u001b[0;32m/usr/local/lib/python3.10/dist-packages/transformers/models/bart/modeling_bart.py\u001b[0m in \u001b[0;36mforward\u001b[0;34m(self, hidden_states, key_value_states, past_key_value, attention_mask, layer_head_mask, output_attentions)\u001b[0m\n\u001b[1;32m    216\u001b[0m         \u001b[0;32melse\u001b[0m\u001b[0;34m:\u001b[0m\u001b[0;34m\u001b[0m\u001b[0;34m\u001b[0m\u001b[0m\n\u001b[1;32m    217\u001b[0m             \u001b[0;31m# self_attention\u001b[0m\u001b[0;34m\u001b[0m\u001b[0;34m\u001b[0m\u001b[0m\n\u001b[0;32m--> 218\u001b[0;31m             \u001b[0mkey_states\u001b[0m \u001b[0;34m=\u001b[0m \u001b[0mself\u001b[0m\u001b[0;34m.\u001b[0m\u001b[0m_shape\u001b[0m\u001b[0;34m(\u001b[0m\u001b[0mself\u001b[0m\u001b[0;34m.\u001b[0m\u001b[0mk_proj\u001b[0m\u001b[0;34m(\u001b[0m\u001b[0mhidden_states\u001b[0m\u001b[0;34m)\u001b[0m\u001b[0;34m,\u001b[0m \u001b[0;34m-\u001b[0m\u001b[0;36m1\u001b[0m\u001b[0;34m,\u001b[0m \u001b[0mbsz\u001b[0m\u001b[0;34m)\u001b[0m\u001b[0;34m\u001b[0m\u001b[0;34m\u001b[0m\u001b[0m\n\u001b[0m\u001b[1;32m    219\u001b[0m             \u001b[0mvalue_states\u001b[0m \u001b[0;34m=\u001b[0m \u001b[0mself\u001b[0m\u001b[0;34m.\u001b[0m\u001b[0m_shape\u001b[0m\u001b[0;34m(\u001b[0m\u001b[0mself\u001b[0m\u001b[0;34m.\u001b[0m\u001b[0mv_proj\u001b[0m\u001b[0;34m(\u001b[0m\u001b[0mhidden_states\u001b[0m\u001b[0;34m)\u001b[0m\u001b[0;34m,\u001b[0m \u001b[0;34m-\u001b[0m\u001b[0;36m1\u001b[0m\u001b[0;34m,\u001b[0m \u001b[0mbsz\u001b[0m\u001b[0;34m)\u001b[0m\u001b[0;34m\u001b[0m\u001b[0;34m\u001b[0m\u001b[0m\n\u001b[1;32m    220\u001b[0m \u001b[0;34m\u001b[0m\u001b[0m\n",
            "\u001b[0;32m/usr/local/lib/python3.10/dist-packages/torch/nn/modules/module.py\u001b[0m in \u001b[0;36m_call_impl\u001b[0;34m(self, *args, **kwargs)\u001b[0m\n\u001b[1;32m   1499\u001b[0m                 \u001b[0;32mor\u001b[0m \u001b[0m_global_backward_pre_hooks\u001b[0m \u001b[0;32mor\u001b[0m \u001b[0m_global_backward_hooks\u001b[0m\u001b[0;34m\u001b[0m\u001b[0;34m\u001b[0m\u001b[0m\n\u001b[1;32m   1500\u001b[0m                 or _global_forward_hooks or _global_forward_pre_hooks):\n\u001b[0;32m-> 1501\u001b[0;31m             \u001b[0;32mreturn\u001b[0m \u001b[0mforward_call\u001b[0m\u001b[0;34m(\u001b[0m\u001b[0;34m*\u001b[0m\u001b[0margs\u001b[0m\u001b[0;34m,\u001b[0m \u001b[0;34m**\u001b[0m\u001b[0mkwargs\u001b[0m\u001b[0;34m)\u001b[0m\u001b[0;34m\u001b[0m\u001b[0;34m\u001b[0m\u001b[0m\n\u001b[0m\u001b[1;32m   1502\u001b[0m         \u001b[0;31m# Do not call functions when jit is used\u001b[0m\u001b[0;34m\u001b[0m\u001b[0;34m\u001b[0m\u001b[0m\n\u001b[1;32m   1503\u001b[0m         \u001b[0mfull_backward_hooks\u001b[0m\u001b[0;34m,\u001b[0m \u001b[0mnon_full_backward_hooks\u001b[0m \u001b[0;34m=\u001b[0m \u001b[0;34m[\u001b[0m\u001b[0;34m]\u001b[0m\u001b[0;34m,\u001b[0m \u001b[0;34m[\u001b[0m\u001b[0;34m]\u001b[0m\u001b[0;34m\u001b[0m\u001b[0;34m\u001b[0m\u001b[0m\n",
            "\u001b[0;32m/usr/local/lib/python3.10/dist-packages/torch/nn/modules/linear.py\u001b[0m in \u001b[0;36mforward\u001b[0;34m(self, input)\u001b[0m\n\u001b[1;32m    112\u001b[0m \u001b[0;34m\u001b[0m\u001b[0m\n\u001b[1;32m    113\u001b[0m     \u001b[0;32mdef\u001b[0m \u001b[0mforward\u001b[0m\u001b[0;34m(\u001b[0m\u001b[0mself\u001b[0m\u001b[0;34m,\u001b[0m \u001b[0minput\u001b[0m\u001b[0;34m:\u001b[0m \u001b[0mTensor\u001b[0m\u001b[0;34m)\u001b[0m \u001b[0;34m->\u001b[0m \u001b[0mTensor\u001b[0m\u001b[0;34m:\u001b[0m\u001b[0;34m\u001b[0m\u001b[0;34m\u001b[0m\u001b[0m\n\u001b[0;32m--> 114\u001b[0;31m         \u001b[0;32mreturn\u001b[0m \u001b[0mF\u001b[0m\u001b[0;34m.\u001b[0m\u001b[0mlinear\u001b[0m\u001b[0;34m(\u001b[0m\u001b[0minput\u001b[0m\u001b[0;34m,\u001b[0m \u001b[0mself\u001b[0m\u001b[0;34m.\u001b[0m\u001b[0mweight\u001b[0m\u001b[0;34m,\u001b[0m \u001b[0mself\u001b[0m\u001b[0;34m.\u001b[0m\u001b[0mbias\u001b[0m\u001b[0;34m)\u001b[0m\u001b[0;34m\u001b[0m\u001b[0;34m\u001b[0m\u001b[0m\n\u001b[0m\u001b[1;32m    115\u001b[0m \u001b[0;34m\u001b[0m\u001b[0m\n\u001b[1;32m    116\u001b[0m     \u001b[0;32mdef\u001b[0m \u001b[0mextra_repr\u001b[0m\u001b[0;34m(\u001b[0m\u001b[0mself\u001b[0m\u001b[0;34m)\u001b[0m \u001b[0;34m->\u001b[0m \u001b[0mstr\u001b[0m\u001b[0;34m:\u001b[0m\u001b[0;34m\u001b[0m\u001b[0;34m\u001b[0m\u001b[0m\n",
            "\u001b[0;31mKeyboardInterrupt\u001b[0m: "
          ]
        }
      ]
    },
    {
      "cell_type": "code",
      "source": [
        "import pandas as pd\n",
        "from transformers import BartTokenizer, BartForConditionalGeneration\n",
        "\n",
        "# Load the dataset containing article links and keywords\n",
        "data = pd.read_excel(\"Dataset1.xlsx\")\n",
        "\n",
        "# Choose a pre-trained model\n",
        "model_name = \"facebook/bart-large-cnn\"\n",
        "tokenizer = BartTokenizer.from_pretrained(model_name)\n",
        "model = BartForConditionalGeneration.from_pretrained(model_name)"
      ],
      "metadata": {
        "id": "UPBlsKycAO0n"
      },
      "execution_count": null,
      "outputs": []
    },
    {
      "cell_type": "code",
      "source": [
        "import textwrap\n",
        "\n",
        "def get_content_summary(text_to_summarize):\n",
        "    inputs = tokenizer.encode(\"summarize: \" + text_to_summarize, return_tensors=\"pt\", max_length=1024, truncation=True)\n",
        "    # Generate the summary\n",
        "    summary_ids = model.generate(inputs, max_length=150, min_length=50, length_penalty=2.0, num_beams=4, early_stopping=True)\n",
        "    summary = tokenizer.decode(summary_ids[0], skip_special_tokens=True)\n",
        "\n",
        "    return summary\n",
        "\n",
        "def merge_content_by_keyword(keyword):\n",
        "    matching_articles = data[data[\"snippet\"].str.contains(keyword, case=False, na=False)]\n",
        "    merged_content = \" \".join(str(content) for content in matching_articles[\"content\"].tolist())\n",
        "    return merged_content\n",
        "\n",
        "keyword = input(\"Enter keyword to search articles: \")\n",
        "matching_articles = data[data[\"snippet\"].str.contains(keyword, case=False, na=False)]\n",
        "print(f\"there are '{len(matching_articles)}' articles.\")\n",
        "print(\"\\nArticle Summary:\\n\")\n",
        "if not matching_articles.empty:\n",
        "    for index, row in matching_articles.iterrows():\n",
        "        print(*textwrap.wrap(get_content_summary(row[\"content\"]), width=100), sep='\\n')\n",
        "else:\n",
        "    print(f\"No articles found with keyword: '{keyword}'.\")\n"
      ],
      "metadata": {
        "id": "8804_XWBN72F",
        "colab": {
          "base_uri": "https://localhost:8080/"
        },
        "outputId": "d7183c2b-5aeb-4242-cd99-3624f08e4cf0"
      },
      "execution_count": 22,
      "outputs": [
        {
          "output_type": "stream",
          "name": "stdout",
          "text": [
            "Enter keyword to search articles: accenture\n",
            "there are '4' articles.\n",
            "\n",
            "Article Summary:\n",
            "\n",
            "Anser Advisory is a leading advisory and management company for infrastructure projects in the\n",
            "United States. Sterling Investment Partners, a leading middle market private equity firm, is selling\n",
            "Anser to Accenture. Anser's federal consulting business, Markon, will be spun off as a Sterling\n",
            "portfolio company.\n",
            "Accenture's contract to administer the Canada Emergency Business Account was revealed by The Globe\n",
            "and Mail in February. The government told The Globe it was a sole-source contract because Ottawa\n",
            "believed a formal procurement process would take too long. The contract has never been included in\n",
            "the government’s proactive-disclosure database, nor in lists tabled in Parliament.\n",
            "Accenture and Google Cloud will help organizations use generative AI to create new opportunities to\n",
            "drive next-level innovation, optimization and reinvention. The companies will focus on improving\n",
            "business processes across 19 industries and six business functions, with a strategic focus on sales\n",
            "and marketing, supply chain, healthcare, and sustainability.\n",
            "The Digital Dollar Project (\"DDP\") announced new hires to support the strategic growth of its policy\n",
            "research and experimentation teams. Michael Greco joins as Policy Research Director. Shaun Ferrari\n",
            "joins as Industry Engagement and Experimentation Director. Katherine Haar joins as a DDP Fellow in\n",
            "the role of strategy and operations.\n"
          ]
        }
      ]
    },
    {
      "cell_type": "code",
      "source": [],
      "metadata": {
        "id": "1lePcJ7KN75o"
      },
      "execution_count": null,
      "outputs": []
    }
  ]
}