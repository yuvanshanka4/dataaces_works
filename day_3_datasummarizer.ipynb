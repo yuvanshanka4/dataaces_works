{
  "nbformat": 4,
  "nbformat_minor": 0,
  "metadata": {
    "colab": {
      "provenance": [],
      "authorship_tag": "ABX9TyMpNAQSTk2BUPQ/StApZhvK",
      "include_colab_link": true
    },
    "kernelspec": {
      "name": "python3",
      "display_name": "Python 3"
    },
    "language_info": {
      "name": "python"
    }
  },
  "cells": [
    {
      "cell_type": "markdown",
      "metadata": {
        "id": "view-in-github",
        "colab_type": "text"
      },
      "source": [
        "<a href=\"https://colab.research.google.com/github/yuvanshanka4/dataaces_works/blob/main/day_3_datasummarizer.ipynb\" target=\"_parent\"><img src=\"https://colab.research.google.com/assets/colab-badge.svg\" alt=\"Open In Colab\"/></a>"
      ]
    },
    {
      "cell_type": "code",
      "execution_count": null,
      "metadata": {
        "colab": {
          "base_uri": "https://localhost:8080/"
        },
        "id": "qKNZwtQINI8Q",
        "outputId": "e915131c-b719-4ebe-ecc9-fad723b967d7"
      },
      "outputs": [
        {
          "output_type": "stream",
          "name": "stdout",
          "text": [
            "Collecting transformers\n",
            "  Downloading transformers-4.31.0-py3-none-any.whl (7.4 MB)\n",
            "\u001b[2K     \u001b[90m━━━━━━━━━━━━━━━━━━━━━━━━━━━━━━━━━━━━━━━━\u001b[0m \u001b[32m7.4/7.4 MB\u001b[0m \u001b[31m22.4 MB/s\u001b[0m eta \u001b[36m0:00:00\u001b[0m\n",
            "\u001b[?25hRequirement already satisfied: pandas in /usr/local/lib/python3.10/dist-packages (1.5.3)\n",
            "Requirement already satisfied: filelock in /usr/local/lib/python3.10/dist-packages (from transformers) (3.12.2)\n",
            "Collecting huggingface-hub<1.0,>=0.14.1 (from transformers)\n",
            "  Downloading huggingface_hub-0.16.4-py3-none-any.whl (268 kB)\n",
            "\u001b[2K     \u001b[90m━━━━━━━━━━━━━━━━━━━━━━━━━━━━━━━━━━━━━━━\u001b[0m \u001b[32m268.8/268.8 kB\u001b[0m \u001b[31m9.9 MB/s\u001b[0m eta \u001b[36m0:00:00\u001b[0m\n",
            "\u001b[?25hRequirement already satisfied: numpy>=1.17 in /usr/local/lib/python3.10/dist-packages (from transformers) (1.22.4)\n",
            "Requirement already satisfied: packaging>=20.0 in /usr/local/lib/python3.10/dist-packages (from transformers) (23.1)\n",
            "Requirement already satisfied: pyyaml>=5.1 in /usr/local/lib/python3.10/dist-packages (from transformers) (6.0.1)\n",
            "Requirement already satisfied: regex!=2019.12.17 in /usr/local/lib/python3.10/dist-packages (from transformers) (2022.10.31)\n",
            "Requirement already satisfied: requests in /usr/local/lib/python3.10/dist-packages (from transformers) (2.27.1)\n",
            "Collecting tokenizers!=0.11.3,<0.14,>=0.11.1 (from transformers)\n",
            "  Downloading tokenizers-0.13.3-cp310-cp310-manylinux_2_17_x86_64.manylinux2014_x86_64.whl (7.8 MB)\n",
            "\u001b[2K     \u001b[90m━━━━━━━━━━━━━━━━━━━━━━━━━━━━━━━━━━━━━━━━\u001b[0m \u001b[32m7.8/7.8 MB\u001b[0m \u001b[31m34.0 MB/s\u001b[0m eta \u001b[36m0:00:00\u001b[0m\n",
            "\u001b[?25hCollecting safetensors>=0.3.1 (from transformers)\n",
            "  Downloading safetensors-0.3.1-cp310-cp310-manylinux_2_17_x86_64.manylinux2014_x86_64.whl (1.3 MB)\n",
            "\u001b[2K     \u001b[90m━━━━━━━━━━━━━━━━━━━━━━━━━━━━━━━━━━━━━━━━\u001b[0m \u001b[32m1.3/1.3 MB\u001b[0m \u001b[31m41.1 MB/s\u001b[0m eta \u001b[36m0:00:00\u001b[0m\n",
            "\u001b[?25hRequirement already satisfied: tqdm>=4.27 in /usr/local/lib/python3.10/dist-packages (from transformers) (4.65.0)\n",
            "Requirement already satisfied: python-dateutil>=2.8.1 in /usr/local/lib/python3.10/dist-packages (from pandas) (2.8.2)\n",
            "Requirement already satisfied: pytz>=2020.1 in /usr/local/lib/python3.10/dist-packages (from pandas) (2022.7.1)\n",
            "Requirement already satisfied: fsspec in /usr/local/lib/python3.10/dist-packages (from huggingface-hub<1.0,>=0.14.1->transformers) (2023.6.0)\n",
            "Requirement already satisfied: typing-extensions>=3.7.4.3 in /usr/local/lib/python3.10/dist-packages (from huggingface-hub<1.0,>=0.14.1->transformers) (4.7.1)\n",
            "Requirement already satisfied: six>=1.5 in /usr/local/lib/python3.10/dist-packages (from python-dateutil>=2.8.1->pandas) (1.16.0)\n",
            "Requirement already satisfied: urllib3<1.27,>=1.21.1 in /usr/local/lib/python3.10/dist-packages (from requests->transformers) (1.26.16)\n",
            "Requirement already satisfied: certifi>=2017.4.17 in /usr/local/lib/python3.10/dist-packages (from requests->transformers) (2023.7.22)\n",
            "Requirement already satisfied: charset-normalizer~=2.0.0 in /usr/local/lib/python3.10/dist-packages (from requests->transformers) (2.0.12)\n",
            "Requirement already satisfied: idna<4,>=2.5 in /usr/local/lib/python3.10/dist-packages (from requests->transformers) (3.4)\n",
            "Installing collected packages: tokenizers, safetensors, huggingface-hub, transformers\n",
            "Successfully installed huggingface-hub-0.16.4 safetensors-0.3.1 tokenizers-0.13.3 transformers-4.31.0\n"
          ]
        }
      ],
      "source": [
        "!pip install transformers pandas\n"
      ]
    },
    {
      "cell_type": "code",
      "source": [
        "!pip install transformers pandas requests\n"
      ],
      "metadata": {
        "colab": {
          "base_uri": "https://localhost:8080/"
        },
        "id": "oaDfaabrN7q6",
        "outputId": "19d11e7f-5d34-43c3-a0f5-3b04fab73019"
      },
      "execution_count": 5,
      "outputs": [
        {
          "output_type": "stream",
          "name": "stdout",
          "text": [
            "Collecting transformers\n",
            "  Downloading transformers-4.31.0-py3-none-any.whl (7.4 MB)\n",
            "\u001b[2K     \u001b[90m━━━━━━━━━━━━━━━━━━━━━━━━━━━━━━━━━━━━━━━━\u001b[0m \u001b[32m7.4/7.4 MB\u001b[0m \u001b[31m15.1 MB/s\u001b[0m eta \u001b[36m0:00:00\u001b[0m\n",
            "\u001b[?25hRequirement already satisfied: pandas in /usr/local/lib/python3.10/dist-packages (1.5.3)\n",
            "Requirement already satisfied: requests in /usr/local/lib/python3.10/dist-packages (2.27.1)\n",
            "Requirement already satisfied: filelock in /usr/local/lib/python3.10/dist-packages (from transformers) (3.12.2)\n",
            "Collecting huggingface-hub<1.0,>=0.14.1 (from transformers)\n",
            "  Downloading huggingface_hub-0.16.4-py3-none-any.whl (268 kB)\n",
            "\u001b[2K     \u001b[90m━━━━━━━━━━━━━━━━━━━━━━━━━━━━━━━━━━━━━━\u001b[0m \u001b[32m268.8/268.8 kB\u001b[0m \u001b[31m20.1 MB/s\u001b[0m eta \u001b[36m0:00:00\u001b[0m\n",
            "\u001b[?25hRequirement already satisfied: numpy>=1.17 in /usr/local/lib/python3.10/dist-packages (from transformers) (1.22.4)\n",
            "Requirement already satisfied: packaging>=20.0 in /usr/local/lib/python3.10/dist-packages (from transformers) (23.1)\n",
            "Requirement already satisfied: pyyaml>=5.1 in /usr/local/lib/python3.10/dist-packages (from transformers) (6.0.1)\n",
            "Requirement already satisfied: regex!=2019.12.17 in /usr/local/lib/python3.10/dist-packages (from transformers) (2022.10.31)\n",
            "Collecting tokenizers!=0.11.3,<0.14,>=0.11.1 (from transformers)\n",
            "  Downloading tokenizers-0.13.3-cp310-cp310-manylinux_2_17_x86_64.manylinux2014_x86_64.whl (7.8 MB)\n",
            "\u001b[2K     \u001b[90m━━━━━━━━━━━━━━━━━━━━━━━━━━━━━━━━━━━━━━━━\u001b[0m \u001b[32m7.8/7.8 MB\u001b[0m \u001b[31m38.0 MB/s\u001b[0m eta \u001b[36m0:00:00\u001b[0m\n",
            "\u001b[?25hCollecting safetensors>=0.3.1 (from transformers)\n",
            "  Downloading safetensors-0.3.1-cp310-cp310-manylinux_2_17_x86_64.manylinux2014_x86_64.whl (1.3 MB)\n",
            "\u001b[2K     \u001b[90m━━━━━━━━━━━━━━━━━━━━━━━━━━━━━━━━━━━━━━━━\u001b[0m \u001b[32m1.3/1.3 MB\u001b[0m \u001b[31m42.4 MB/s\u001b[0m eta \u001b[36m0:00:00\u001b[0m\n",
            "\u001b[?25hRequirement already satisfied: tqdm>=4.27 in /usr/local/lib/python3.10/dist-packages (from transformers) (4.65.0)\n",
            "Requirement already satisfied: python-dateutil>=2.8.1 in /usr/local/lib/python3.10/dist-packages (from pandas) (2.8.2)\n",
            "Requirement already satisfied: pytz>=2020.1 in /usr/local/lib/python3.10/dist-packages (from pandas) (2022.7.1)\n",
            "Requirement already satisfied: urllib3<1.27,>=1.21.1 in /usr/local/lib/python3.10/dist-packages (from requests) (1.26.16)\n",
            "Requirement already satisfied: certifi>=2017.4.17 in /usr/local/lib/python3.10/dist-packages (from requests) (2023.7.22)\n",
            "Requirement already satisfied: charset-normalizer~=2.0.0 in /usr/local/lib/python3.10/dist-packages (from requests) (2.0.12)\n",
            "Requirement already satisfied: idna<4,>=2.5 in /usr/local/lib/python3.10/dist-packages (from requests) (3.4)\n",
            "Requirement already satisfied: fsspec in /usr/local/lib/python3.10/dist-packages (from huggingface-hub<1.0,>=0.14.1->transformers) (2023.6.0)\n",
            "Requirement already satisfied: typing-extensions>=3.7.4.3 in /usr/local/lib/python3.10/dist-packages (from huggingface-hub<1.0,>=0.14.1->transformers) (4.7.1)\n",
            "Requirement already satisfied: six>=1.5 in /usr/local/lib/python3.10/dist-packages (from python-dateutil>=2.8.1->pandas) (1.16.0)\n",
            "Installing collected packages: tokenizers, safetensors, huggingface-hub, transformers\n",
            "Successfully installed huggingface-hub-0.16.4 safetensors-0.3.1 tokenizers-0.13.3 transformers-4.31.0\n"
          ]
        }
      ]
    },
    {
      "cell_type": "code",
      "source": [
        "from transformers import BartTokenizer, BartForConditionalGeneration\n",
        "\n",
        "# Sample text to summarize\n",
        "text_to_summarize = \"\"\"\n",
        "Renewable energy sources play a crucial role in addressing the growing global energy demand\n",
        "while mitigating environmental challenges. These sustainable sources, such as solar, wind,\n",
        "hydro, geothermal, and biomass, offer clean and abundant alternatives to fossil fuels. As\n",
        "the world grapples with climate change and its consequences, the adoption of renewable\n",
        "energy technologies has gained momentum. Governments, industries, and individuals are\n",
        "increasingly investing in and promoting renewable energy projects, aiming to reduce\n",
        "greenhouse gas emissions and achieve energy security. The integration of advanced\n",
        "technologies, including artificial intelligence, has further enhanced the efficiency and\n",
        "scalability of renewable energy solutions. As we move towards a more sustainable future,\n",
        "the widespread adoption of renewable energy is imperative for a cleaner and greener planet.\n",
        "\"\"\"\n",
        "\n",
        "# Load BART model and tokenizer\n",
        "model = BartForConditionalGeneration.from_pretrained('facebook/bart-large-cnn')\n",
        "tokenizer = BartTokenizer.from_pretrained('facebook/bart-large-cnn')\n",
        "\n",
        "# Tokenize the input text\n",
        "inputs = tokenizer.encode(\"summarize: \" + text_to_summarize, return_tensors=\"pt\", max_length=1024, truncation=True)\n",
        "\n",
        "# Generate the summary\n",
        "summary_ids = model.generate(inputs, max_length=150, min_length=50, length_penalty=2.0, num_beams=4, early_stopping=True)\n",
        "summary = tokenizer.decode(summary_ids[0], skip_special_tokens=True)\n",
        "\n",
        "# Print the summary\n",
        "print(summary)\n"
      ],
      "metadata": {
        "colab": {
          "base_uri": "https://localhost:8080/"
        },
        "id": "1o9xbUMgd1zN",
        "outputId": "190818f7-4477-46d9-e524-82ee06eb4b56"
      },
      "execution_count": null,
      "outputs": [
        {
          "output_type": "stream",
          "name": "stdout",
          "text": [
            "Renewable energy sources play a crucial role in addressing the growing global energy demand. These sources include solar, wind, geothermal, and biomass. As we move towards a more sustainable future, the adoption of renewable energy is imperative for a cleaner and greener planet.\n"
          ]
        }
      ]
    },
    {
      "cell_type": "code",
      "source": [
        "!pip install openpyxl\n",
        "!pip install torch\n"
      ],
      "metadata": {
        "colab": {
          "base_uri": "https://localhost:8080/"
        },
        "id": "OdUjQfgwgi7i",
        "outputId": "f34b3c23-69fe-4a72-f974-9e682462359d"
      },
      "execution_count": 2,
      "outputs": [
        {
          "output_type": "stream",
          "name": "stdout",
          "text": [
            "Requirement already satisfied: openpyxl in /usr/local/lib/python3.10/dist-packages (3.0.10)\n",
            "Requirement already satisfied: et-xmlfile in /usr/local/lib/python3.10/dist-packages (from openpyxl) (1.1.0)\n",
            "Requirement already satisfied: torch in /usr/local/lib/python3.10/dist-packages (2.0.1+cu118)\n",
            "Requirement already satisfied: filelock in /usr/local/lib/python3.10/dist-packages (from torch) (3.12.2)\n",
            "Requirement already satisfied: typing-extensions in /usr/local/lib/python3.10/dist-packages (from torch) (4.7.1)\n",
            "Requirement already satisfied: sympy in /usr/local/lib/python3.10/dist-packages (from torch) (1.11.1)\n",
            "Requirement already satisfied: networkx in /usr/local/lib/python3.10/dist-packages (from torch) (3.1)\n",
            "Requirement already satisfied: jinja2 in /usr/local/lib/python3.10/dist-packages (from torch) (3.1.2)\n",
            "Requirement already satisfied: triton==2.0.0 in /usr/local/lib/python3.10/dist-packages (from torch) (2.0.0)\n",
            "Requirement already satisfied: cmake in /usr/local/lib/python3.10/dist-packages (from triton==2.0.0->torch) (3.25.2)\n",
            "Requirement already satisfied: lit in /usr/local/lib/python3.10/dist-packages (from triton==2.0.0->torch) (16.0.6)\n",
            "Requirement already satisfied: MarkupSafe>=2.0 in /usr/local/lib/python3.10/dist-packages (from jinja2->torch) (2.1.3)\n",
            "Requirement already satisfied: mpmath>=0.19 in /usr/local/lib/python3.10/dist-packages (from sympy->torch) (1.3.0)\n"
          ]
        }
      ]
    },
    {
      "cell_type": "code",
      "source": [
        "import pandas as pd\n",
        "from transformers import BartTokenizer, BartForConditionalGeneration\n",
        "\n",
        "# Load BART model and tokenizer\n",
        "model = BartForConditionalGeneration.from_pretrained('facebook/bart-large-cnn')\n",
        "tokenizer = BartTokenizer.from_pretrained('facebook/bart-large-cnn')\n",
        "\n",
        "# Function to generate the summary for a given text\n",
        "def generate_summary(text_to_summarize):\n",
        "    inputs = tokenizer.encode(\"summarize: \" + text_to_summarize, return_tensors=\"pt\", max_length=1024, truncation=True)\n",
        "    summary_ids = model.generate(inputs, max_length=150, min_length=50, length_penalty=2.0, num_beams=4, early_stopping=True)\n",
        "    summary = tokenizer.decode(summary_ids[0], skip_special_tokens=True)\n",
        "    return summary\n",
        "\n",
        "# Function to read Excel file and fetch text based on ID\n",
        "def get_text_by_id(excel_file, sheet_name, target_id):\n",
        "    df = pd.read_excel(excel_file, sheet_name=sheet_name)\n",
        "    text = df.loc[df['id'] == target_id, 'content'].values[0]\n",
        "    return text\n",
        "\n",
        "# Example usage\n",
        "excel_file_path = \"Dataset1.xlsx\"\n",
        "sheet_name = \"Tablib Dataset\"\n",
        "target_id = int(input(\"enter id\"))  # Replace this with the desired ID you want to summarize\n",
        "\n",
        "text_to_summarize = get_text_by_id(excel_file_path, sheet_name, target_id)\n",
        "summary = generate_summary(text_to_summarize)\n",
        "\n",
        "#print(\"ID:\", target_id)\n",
        "#print(\"Text:\", text_to_summarize)\n",
        "print(\"Summary:\", summary)\n",
        "\n"
      ],
      "metadata": {
        "colab": {
          "base_uri": "https://localhost:8080/"
        },
        "id": "iqMtMjSbgV1L",
        "outputId": "28b881b3-ff53-426c-e406-5dc449de5004"
      },
      "execution_count": 7,
      "outputs": [
        {
          "output_type": "stream",
          "name": "stdout",
          "text": [
            "enter id68640\n",
            "ID: 68640\n",
            "Summary: Binance Holdings Ltd. said it has received an order from one of Canada's securities regulators. The Ontario Securities Commission served the world's largest digital asset exchange with an investigation order on May 10. Two days later, Binance announced it would be withdrawing from the market, citing new regulatory guidance.\n"
          ]
        }
      ]
    },
    {
      "cell_type": "code",
      "source": [
        "# Load the BART tokenizer and model\n",
        "tokenizer = BartTokenizer.from_pretrained('facebook/bart-large-cnn')\n",
        "model = BartForConditionalGeneration.from_pretrained('facebook/bart-large-cnn')\n",
        "\n",
        "# Function to summarize the text\n",
        "def summarize_text(text):\n",
        "    # Tokenize the input text\n",
        "    inputs = tokenizer(text, max_length=1024, return_tensors='pt', truncation=True)\n",
        "\n",
        "    # Generate the summary\n",
        "    summary_ids = model.generate(inputs['input_ids'], num_beams=4, min_length=30, max_length=150, early_stopping=True)\n",
        "\n",
        "    # Decode the generated summary\n",
        "    summary = tokenizer.decode(summary_ids[0], skip_special_tokens=True)\n",
        "    return summary\n",
        "\n",
        "# Read the Excel file into a DataFrame\n",
        "excel_file_path = '/content/Dataset1.xlsx'\n",
        "df = pd.read_excel(excel_file_path)\n",
        "\n",
        "# Get the \"content\" column as a list\n",
        "content_rows = df['content'].tolist()\n",
        "\n",
        "# Concatenate all content rows into a single text\n",
        "#all_text = \" \".join(str(row) for row in content_rows)\n",
        "\n",
        "# Get the summary\n",
        "for i in range(0,len(content_rows)):\n",
        "  summary_text = summarize_text(content_rows[i])\n",
        "  # Print the summar\n",
        "  print(\"Summary:\")\n",
        "  print(summary_text)\n"
      ],
      "metadata": {
        "id": "hXNe0s-3N7wn",
        "colab": {
          "base_uri": "https://localhost:8080/",
          "height": 1000
        },
        "outputId": "16f4252a-8855-42b2-9e91-8ca696ce895e"
      },
      "execution_count": 9,
      "outputs": [
        {
          "output_type": "stream",
          "name": "stdout",
          "text": [
            "Summary:\n",
            "Anser Advisory is a leading advisory and management company for infrastructure projects in the United States. Sterling Investment Partners, a leading middle market private equity firm, announced the planned sale of Anser to Accenture. Anser's federal consulting business, Markon, will remain a Sterling portfolio company.\n",
            "Summary:\n",
            "Regulators looking at possible mishandling of customer funds by FTX.com and FTX US. Investigation began months ago, before FTX’s current liquidity crisis. WSJ: Binance is “likely’ to end a potential deal to acquire FTX, pending due diligence.\n",
            "Summary:\n",
            "Two-thirds of retailers in the UK have noticed improvements in at least one area of their business sales and performance metrics. Sales conversion was the most common benefit delivered to UK retailers that offered this form of paytech. 63 per cent claim they are still not interested in offering it as a payment method for ‘lack of relevance’\n",
            "Summary:\n",
            "Tether, an asset-backed cryptocurrency stablecoin, has been lending its coins to customers. This adds to the risk that the company may not have enough liquid assets to weather a large redemption event. A bank run exposing liquidity issues is exactly what caused the implosion of cryptocurrency exchange FTX.\n",
            "Summary:\n",
            "Aeros is a fintech platform providing banking and merchant services for underserved businesses. Aeros is one of the first clients Vesto has unveiled since it went live on mainnet last month. The Vesto-powered Aeros App, now provides:Crypto and cashless transactions, payments, and instant settlement.\n",
            "Summary:\n",
            "Freddie Delmotte trainee associate at international law firm Bird & Bird outlines some predictions of the biggest fintech trends businesses should watch out for in 2022. The past few years have seen major disruption, challenges and streamlining of the financial and tech worlds.\n",
            "Summary:\n",
            "Insiders at collapsed Signature Bank sold more than $100 million of shares in the years after the bank pivoted to attract cryptocurrency companies. Sales over the past three years by the bank’s chairman, former chief executive officer and his successor accounted for about half of the amount sold.\n",
            "Summary:\n",
            "Digital bank with $4.1 billion in assets expands fintech offerings. Treasury Prime's industry-leading bank network now totals 15 financial institutions nationwide. First Internet Bank provides consumer and small business deposits, SBA financing, consumer loans and residential mortgages.\n",
            "Summary:\n",
            "Collaboration between banks and fintechs can bring faster speeds to the international payments space. The second Payments Services Directive (PSD2) has helped move things forward in this respect.\n",
            "Summary:\n",
            "Federal Deposit Insurance Corp. officials have been discussing with management ways to avoid a shutdown. One possible option involves lining up crypto-industry investors to help Silvergate shore up its liquidity. The lender hasn’t made a decision on how to deal with its deepening financial turmoil.\n",
            "Summary:\n",
            "Highnote, a fully cloud-native card issuance and program management platform, has expanded its partnership with Visa. This includes full certification as a Visa issuer processor. The company has raised more than $100 million from leading investors and strategic partners.\n",
            "Summary:\n",
            "Central Bank Digital Currencies have dominated fintech headlines since 2020. A full-scale, multiple Central Bank Digital Currency (mCBDC) network could potentially save global corporates up to $100 billion in transaction costs annually. In September 2021, seven Central Banks issued a set of reports intended to build a global consensus.\n",
            "Summary:\n",
            "Digital Currency Group closes its wealth-management division. The Stamford, Connecticut-based firm controls asset manager Grayscale Investments and brokerage Genesis. The company is dealing with changes and challenges within some of its biggest subsidiaries.\n",
            "Summary:\n",
            "A Goldman Sachs report says the fall in crypto prices likely won’t impact the U.S. economy that much. Samuel Bankman-Fried, the crypto billionaire, has put $16 billion into super PACs in April. Social Life Network has rolled out a new QR code add-on application to help mobile retailers accept crypto payments more easily.\n",
            "Summary:\n",
            "Apple reportedly looking to build its own payments and lending infrastructure. The US firm has been busy in the fintech space of late, having acquired Credit Kudos at a reported value of $150 million last month.\n",
            "Summary:\n",
            "Germany seeks to award 1.6 GW of solar in new tender round for 16GW of solar power. The tender is for a total of 1.4 GW of power.\n",
            "Summary:\n",
            "Google must pay $15.1 million in damages for infringing on two patents related to music software. The jury ruled that Google had intentionally infringed on patents, allowing the judge to triple the amount of the prize awarded by the jury. Google says the company is disappointed with the verdict and is preparing to appeal.\n",
            "Summary:\n",
            "Peter Bordes has been a lifelong entrepreneur with more than 30 years of executive and board experience leading private and public companies across the Fintech, AdTech, media and technology sectors. Bordes is the founder and managing partner of Trajectory Capital, a later-stage investing platform and growth fund.\n",
            "Summary:\n",
            "A new legal advisory notice from the Office of Government Ethics disallows federal workers who own crypto from working on policies that could influence the value of their digital assets. The directive applies to all White House staff and the employees of all federal agencies.\n",
            "Summary:\n",
            "The UK and Singapore have signed a Memorandum of Understanding (MoU) to strengthen their fintech cooperation. The MoU builds on the UK-Singapore Digital Economy Agreement signed earlier this year.\n",
            "Summary:\n",
            "Klarna is disputing new research into the buy now, pay later (BNPL) industry published by Barclays. Barclays is calling for stronger regulation of the BNPL sector and other unregulated forms of credit. Klarna is also set to debut its loyalty card feature, backed by mobile wallet provider Stocard, in 2021.\n",
            "Summary:\n",
            "Switzerland-based Financial Stability Board (FSB) could devise the first global framework for cryptoassets, including bitcoin and stablecoins. The European Union is considering a wide-ranging set of standards for authorizing and supervising the crypto sectors.\n",
            "Summary:\n",
            "FTX and its related entities filed for Chapter 11 bankruptcy protection in Delaware federal court on Friday. This means the company can continue operating, while restructuring its debts under court supervision. The bankruptcy filing follows a chaotic week in the crypto market with customers withdrawing around $5billion in just two days.\n",
            "Summary:\n",
            "The FinTech IPO Index was up 8.8% on the week, driven by double-digit percentage point gains for several names tracked by PYMNTS. But the overall performance still has been dismal, down 35.2% for the year.\n",
            "Summary:\n",
            "GoLogiq, Inc. has entered into a non-binding letter of intent to acquire Sydney-based Applied Positive Psychology Learning Institute. APPLI is a global organization that helps people and organizations make positive and sustainable change in mental health and wellbeing.\n",
            "Summary:\n",
            "Australian fintech company Humm Group said on Monday an interim stop order issued by the country's corporate regulator had been revoked. The stop order restricting it from issuing buy-now-pay-later products to new customers was revoked.\n",
            "Summary:\n",
            "US regulators are prying deep into the remnants of failed hedge fund Three Arrows Capital. The fund filed for bankruptcy in July after the broad sell-off in digital assets. The Commodity Futures Trading Commission and the Securities and Exchange Commission are now looking into the firm.\n",
            "Summary:\n",
            "Kueski, the online financial ecosystem for consumers in Mexico, announced that it has disbursed a record 10 million loans. With more than 1.8 million unique customers and more than $1.6 billion in loan transactions, this marks an important milestone for the company.\n",
            "Summary:\n",
            "Three New York City pensions filed shareholder proposals with Mastercard Inc. and American Express Co. They want credit-card companies to improve tracking of gun sales. Clothing, sporting goods stores and transpiration providers have specific MCCs.\n",
            "Summary:\n",
            "All three major American credit bureaus are moving forward with plans to collect BNPL payment data and make it available to lenders. The new data will initially be placed in a portion of the core credit files that’s partitioned from the rest of the reports.\n",
            "Summary:\n",
            "A growing cohort of long-term investors are doubling down on their stashes of bitcoin. The amount of bitcoin held in digital wallets with no outflows for more than five months has been steadily increasing. Bitcoin and ether both posted gains last week.\n",
            "Summary:\n",
            "Central Bank of Turkey Successfully Tests Payment Transactions Using Digital Lira. Central bank plans to run further limited, closed-circuit pilot tests with technology stakeholders during 2023’s first quarter.\n",
            "Summary:\n",
            "Payments Canada continues to move ahead with its Real-Time Rail (RTR) system. Tata Consultancy Services (TCS) will serve as the integration lead. RTR will allow for payments to be sent and received within seconds.\n",
            "Summary:\n",
            "Stablecoins, the safe and strait-laced cousins of crypto, are looking distinctly dicey. Tether, USDC and others lost their prized pegs to the dollar last week. But was it an isolated outburst, or are they losing their soul?\n",
            "Summary:\n",
            "Intel said on Wednesday it would sell one-fifth of its stake in IMS Nanofabrication to private equity firm Bain Capital. The Austrian producer of chipmaking tools is valued at about $4.3 billion.\n",
            "Summary:\n",
            "Web3 payments firm MoonPay is teaming up with LooksRare to allow traders to easily purchase cryptocurrency and NFTs on the platform. MoonPay’s infrastructure aims to help onboard LooksRare customers to Web3.\n",
            "Summary:\n",
            "Businesses race to provide fully digital payment experiences in the business-to-business (B2B) space. Many are adopting a “white-label’ model to seamlessly weave bank-provided financial services into eCommerce providers’ customer experience.\n",
            "Summary:\n",
            "Paytrail, a Finnish online payment company, announced Tuesday (July 5) that its partnership with Mastercard is helping facilitate more than 1 million open banking payments each month. Paytrail and Aiia, an open banking company owned by Mastercard, have been working together since 2019. Aiia recently debuted a “Pay by link’ feature, which allows users to make payments through email, PDF, SMS, a letter or a social media conversation.\n",
            "Summary:\n",
            "Klarna has launched a physical Klarna card in the UK, letting consumers ‘pay later’ for their purchases everywhere in physical stores. The card will launch with Klarna’s ‘Pay in 30’ product, which allows consumers to delay payments for up to 30 days. Klarna is a fully licensed bank and offers regulated and unregulated credit products.\n",
            "Summary:\n",
            "The Office of the Superintendent of Financial Institutions (OSFI), the Financial Consumer Agency of Canada (FCAC) and the Canada Deposit Insurance Corporation (CDIC) issued a joint statement supporting the principle of “same activity, same risk, same regulation” The statement follows prior statements by OSFI, including the Interim arrangements for the regulatory capital and liquidity treatment of crypto-asset exposures.\n",
            "Summary:\n",
            "The plants will be located in the reservoirs of Ferreira do Alentejo, Almeidas, Pias, Penedrão, and Monte Novo. The five projects will have a combined capacity of 4.5 MW and require a total investment of around €4.3 million ($4.6 million)\n",
            "Summary:\n",
            "Walmart has begun rolling out banking services through One to at least some workers, according to a memo posted in late October on Walmart's internal network. Walmart staffers who sign up for One through the Me@Walmart employee app will be eligible to receive their paychecks up to two days early via direct deposit. Walmart also singled out the ability for employees to make fee-free cash withdrawals at Walmart Money Centers through One.\n",
            "Summary:\n",
            "FCA has warned firms against promoting unapproved BNPL products. Unauthorised firms face criminal charges if they do not have an FCA-authorised firm approve their financial promotions. Authorised firms must also ensure that all promotional advertising comply with the FCA guidelines.\n",
            "Summary:\n",
            "Two Calgary-based financial technology companies, Fillip and Miq, were announced as the winners of the inaugural Digital Commerce Bank Calgary Fintech Award on October 14, 2022. The winners cumulatively took home prizes of over $300,000 in non-dilutive cash.\n",
            "Summary:\n",
            "SEC Compounds Crypto Confusion With Coinbase Case. Law360 provides the intelligence you need to remain an expert and beat the competition. Access to case data within articles (numbers, filings, courts, nature of suit, and more)\n",
            "Summary:\n",
            "The Monetary and Banking Research Institute of Iran has completed preliminary research for a potential digital rial. The \"crypto rial,\" pegged to the national currency at a 1:1 ratio, reportedly runs on a platform called Borna, which was developed using Hyperledger Fabric.\n",
            "Summary:\n",
            "Rep. Raja Krishnamoorthi (D-Unwell) wrote to Treasury Secretary Janet L. Yellen, Securities and Alternate Fee Chair Gary Gensler, Federal Commerce Fee Chair Lina Khan, and Commodity Futures Buying and selling Fee Chair Rostin Behnam. He said the federal authorities “has been sluggish to curb cryptocurrency scams and fraud’\n",
            "Summary:\n",
            "Decentralized finance, better known as DeFi, is the hottest segment of cryptocurrency right now. More than two dozen cryptocurrencies crashed last weekend, dropping as much as 70%.\n",
            "Summary:\n",
            "WonderFi has entered into a definitive agreement to acquire Toronto’s Coinberry for approximately $38.5 million CAD in WonderFi stock. The deal is expected to close in the 2nd quarter. WonderFi claims this will make it “one of the largest ecosystems of crypto participants’ in North America.\n",
            "Summary:\n",
            "By 2025, Intel expects this transition to reduce annual costs by $8 billion to $10 billion. By 2030, Intel aims to become the second-largest contract chipmaker in the world, including third-party orders.\n",
            "Summary:\n",
            "New fintech entrants continue to get into the BNPL game, while established players scramble to offer their own services. One estimate pegs the number of BN PL providers currently existing today at 170. “There are not many ‘blue ocean’ opportunities left,” says Cornerstone Advisors' Alex Johnson.\n",
            "Summary:\n",
            "The 25th Annual Needham Growth Conference is being held January 10 – 12, 2023 at The Lotte New York Palace in New York City. Applied Digital management will be hosting one-on-one meetings with investors. The live and archived webcast of the presentation will be available here and on the Company’s investor relations website.\n",
            "Summary:\n",
            "TerraUSD, or UST, started losing its dollar peg over the weekend. It dropped as low as $0.85 this morning, down 99% with a market cap approaching $500,000. Unlike other top stablecoins like Tether, USD Coin, and BinanceUSD, UST was not backed by hard assets.\n",
            "Summary:\n",
            "UPMC paid $8.5 million in a settlement agreement for what federal officials said were false claims to Medicare. Luketich will still have clinical responsibilities and be the Henry T. Bahnson Chair in Cardiothoracic Surgery.\n",
            "Summary:\n",
            "Tether says it made a $700 million \"net profit\" in the December quarter. The company says it has added the money to its reserves. Tether is the issuer of USDT, the world's largest stablecoin by market capitalization.\n",
            "Summary:\n",
            "Afterpay (13.9%), Zip (9.7%), Klarna (8.1%) and Affirm (6.5%) are performing badly. On average for every $1 Bn of processing volume BNPLs write down $19.2 m of bad debt, major credit card schemes write down just $270k.\n",
            "Summary:\n",
            "Researchers at the Chinese Academy of Sciences have successfully created foldable crystalline silicon (c-Si) wafers for use in flexible silicon heterojunction (HJT) solar cells. HJT cell technology is ideal for making flexible solar cells, as it eliminates edge warping caused by inner stress during the firing process.\n",
            "Summary:\n",
            "\"All these failures are very serious,\" says European Commission official. \"We don't see them as failures of blockchain or crypto assets per se,\" adds Alexandra Jour-Schroeder.\n",
            "Summary:\n",
            "The mobile payment security market was valued at US$ 1.1 Tn in 2022. It is predicted to reach US$ 7.8 Tn by 2032, growing at a 21.5% CAGR. One of the key factors driving the growth of the mobile payment. security industry is the increasing frequency of data breaches.\n",
            "Summary:\n",
            "The market opportunity in this sector is expected to exceed $7 trillion by the decade’s end. Look for more tools such as point-of-sale loans, insurance or rewards products that produce more impact.\n",
            "Summary:\n",
            "The FTX bankruptcy is a foretaste of what may be to come. Bernie Madoff’s investment firm finally collapsed during the nadir of the global financial crisis in 2008. The Enron Corp. and WorldCom Inc. scandals both blew up in the years after the bursting of the dotcom bubble.\n",
            "Summary:\n",
            "The group of professionals billed a total of $38 million plus expenses for their services in January. The three firms collectively have over 180 lawyers and 50 non-lawyer staff.\n",
            "Summary:\n",
            "US fintechs Brex and MX announce layoffs this year. Brex will lay off 136 employees – approximately 11% of its total workforce. Utah-based MX has laid off an undisclosed number of employees.\n",
            "Summary:\n",
            "European Securities and Markets Authorities (ESMA) has issued requests to companies to provide trading data on crypto asset transactions. Ether ‘flips’ bitcoin options - is a full flippening around the corner? Talk of The Merge has put a lot of speculation on whether ether is capable of overturning bitcoin. Aave DAO has approved the launch of a stablecoin, named GHO, for the protocol.\n",
            "Summary:\n",
            "U.S. e-commerce sales hit $250 billion in Q1 of 2022, a 6.6% increase from the previous year. The US may be on track to record its highest annual online sales ever. China's online sales supremacy is about to be knocked off its pedestal. Fintech is at the intersection of fintech and retail.\n",
            "Summary:\n",
            "The Federal Deposit Insurance Corporation (FDIC) issued an advisory letter to a United States-based neobank. The FDIC demanded that the company immediately cease and desist.\n",
            "Summary:\n",
            "FIS’ 2022 Global Payments Report found that BNPL accounted for 8.1% of Europe’s regional e-commerce transaction value in 2021. Digital wallets in Spain accounted for 30.3% in 2021, overtaking credit cards. Juniper predicts that digital wallet users will exceed 4.4 billion globally by 2025, as mobile drives digital payments revolution.\n",
            "Summary:\n",
            "Bavarian Nordic’s RSV candidate failed to meet all the primary endpoints in the study, leading to the termination of the programme. Shares in Bavarian Nordic fell 29% at market open on Monday 24 July compared to the pre-announcement market close on Friday 21 July.\n",
            "Summary:\n",
            "IMF says fast-growing finechs pose challenges for both regulators and less technologically advanced banks. UK regulators publish slew of papers on cryptoasset regulation.\n"
          ]
        },
        {
          "output_type": "error",
          "ename": "KeyboardInterrupt",
          "evalue": "ignored",
          "traceback": [
            "\u001b[0;31m---------------------------------------------------------------------------\u001b[0m",
            "\u001b[0;31mKeyboardInterrupt\u001b[0m                         Traceback (most recent call last)",
            "\u001b[0;32m<ipython-input-9-28ae13c663d9>\u001b[0m in \u001b[0;36m<cell line: 28>\u001b[0;34m()\u001b[0m\n\u001b[1;32m     27\u001b[0m \u001b[0;31m# Get the summary\u001b[0m\u001b[0;34m\u001b[0m\u001b[0;34m\u001b[0m\u001b[0m\n\u001b[1;32m     28\u001b[0m \u001b[0;32mfor\u001b[0m \u001b[0mi\u001b[0m \u001b[0;32min\u001b[0m \u001b[0mrange\u001b[0m\u001b[0;34m(\u001b[0m\u001b[0;36m0\u001b[0m\u001b[0;34m,\u001b[0m\u001b[0mlen\u001b[0m\u001b[0;34m(\u001b[0m\u001b[0mcontent_rows\u001b[0m\u001b[0;34m)\u001b[0m\u001b[0;34m)\u001b[0m\u001b[0;34m:\u001b[0m\u001b[0;34m\u001b[0m\u001b[0;34m\u001b[0m\u001b[0m\n\u001b[0;32m---> 29\u001b[0;31m   \u001b[0msummary_text\u001b[0m \u001b[0;34m=\u001b[0m \u001b[0msummarize_text\u001b[0m\u001b[0;34m(\u001b[0m\u001b[0mcontent_rows\u001b[0m\u001b[0;34m[\u001b[0m\u001b[0mi\u001b[0m\u001b[0;34m]\u001b[0m\u001b[0;34m)\u001b[0m\u001b[0;34m\u001b[0m\u001b[0;34m\u001b[0m\u001b[0m\n\u001b[0m\u001b[1;32m     30\u001b[0m   \u001b[0;31m# Print the summar\u001b[0m\u001b[0;34m\u001b[0m\u001b[0;34m\u001b[0m\u001b[0m\n\u001b[1;32m     31\u001b[0m   \u001b[0mprint\u001b[0m\u001b[0;34m(\u001b[0m\u001b[0;34m\"Summary:\"\u001b[0m\u001b[0;34m)\u001b[0m\u001b[0;34m\u001b[0m\u001b[0;34m\u001b[0m\u001b[0m\n",
            "\u001b[0;32m<ipython-input-9-28ae13c663d9>\u001b[0m in \u001b[0;36msummarize_text\u001b[0;34m(text)\u001b[0m\n\u001b[1;32m      9\u001b[0m \u001b[0;34m\u001b[0m\u001b[0m\n\u001b[1;32m     10\u001b[0m     \u001b[0;31m# Generate the summary\u001b[0m\u001b[0;34m\u001b[0m\u001b[0;34m\u001b[0m\u001b[0m\n\u001b[0;32m---> 11\u001b[0;31m     \u001b[0msummary_ids\u001b[0m \u001b[0;34m=\u001b[0m \u001b[0mmodel\u001b[0m\u001b[0;34m.\u001b[0m\u001b[0mgenerate\u001b[0m\u001b[0;34m(\u001b[0m\u001b[0minputs\u001b[0m\u001b[0;34m[\u001b[0m\u001b[0;34m'input_ids'\u001b[0m\u001b[0;34m]\u001b[0m\u001b[0;34m,\u001b[0m \u001b[0mnum_beams\u001b[0m\u001b[0;34m=\u001b[0m\u001b[0;36m4\u001b[0m\u001b[0;34m,\u001b[0m \u001b[0mmin_length\u001b[0m\u001b[0;34m=\u001b[0m\u001b[0;36m30\u001b[0m\u001b[0;34m,\u001b[0m \u001b[0mmax_length\u001b[0m\u001b[0;34m=\u001b[0m\u001b[0;36m150\u001b[0m\u001b[0;34m,\u001b[0m \u001b[0mearly_stopping\u001b[0m\u001b[0;34m=\u001b[0m\u001b[0;32mTrue\u001b[0m\u001b[0;34m)\u001b[0m\u001b[0;34m\u001b[0m\u001b[0;34m\u001b[0m\u001b[0m\n\u001b[0m\u001b[1;32m     12\u001b[0m \u001b[0;34m\u001b[0m\u001b[0m\n\u001b[1;32m     13\u001b[0m     \u001b[0;31m# Decode the generated summary\u001b[0m\u001b[0;34m\u001b[0m\u001b[0;34m\u001b[0m\u001b[0m\n",
            "\u001b[0;32m/usr/local/lib/python3.10/dist-packages/torch/utils/_contextlib.py\u001b[0m in \u001b[0;36mdecorate_context\u001b[0;34m(*args, **kwargs)\u001b[0m\n\u001b[1;32m    113\u001b[0m     \u001b[0;32mdef\u001b[0m \u001b[0mdecorate_context\u001b[0m\u001b[0;34m(\u001b[0m\u001b[0;34m*\u001b[0m\u001b[0margs\u001b[0m\u001b[0;34m,\u001b[0m \u001b[0;34m**\u001b[0m\u001b[0mkwargs\u001b[0m\u001b[0;34m)\u001b[0m\u001b[0;34m:\u001b[0m\u001b[0;34m\u001b[0m\u001b[0;34m\u001b[0m\u001b[0m\n\u001b[1;32m    114\u001b[0m         \u001b[0;32mwith\u001b[0m \u001b[0mctx_factory\u001b[0m\u001b[0;34m(\u001b[0m\u001b[0;34m)\u001b[0m\u001b[0;34m:\u001b[0m\u001b[0;34m\u001b[0m\u001b[0;34m\u001b[0m\u001b[0m\n\u001b[0;32m--> 115\u001b[0;31m             \u001b[0;32mreturn\u001b[0m \u001b[0mfunc\u001b[0m\u001b[0;34m(\u001b[0m\u001b[0;34m*\u001b[0m\u001b[0margs\u001b[0m\u001b[0;34m,\u001b[0m \u001b[0;34m**\u001b[0m\u001b[0mkwargs\u001b[0m\u001b[0;34m)\u001b[0m\u001b[0;34m\u001b[0m\u001b[0;34m\u001b[0m\u001b[0m\n\u001b[0m\u001b[1;32m    116\u001b[0m \u001b[0;34m\u001b[0m\u001b[0m\n\u001b[1;32m    117\u001b[0m     \u001b[0;32mreturn\u001b[0m \u001b[0mdecorate_context\u001b[0m\u001b[0;34m\u001b[0m\u001b[0;34m\u001b[0m\u001b[0m\n",
            "\u001b[0;32m/usr/local/lib/python3.10/dist-packages/transformers/generation/utils.py\u001b[0m in \u001b[0;36mgenerate\u001b[0;34m(self, inputs, generation_config, logits_processor, stopping_criteria, prefix_allowed_tokens_fn, synced_gpus, assistant_model, streamer, **kwargs)\u001b[0m\n\u001b[1;32m   1343\u001b[0m             \u001b[0;31m# if model is encoder decoder encoder_outputs are created\u001b[0m\u001b[0;34m\u001b[0m\u001b[0;34m\u001b[0m\u001b[0m\n\u001b[1;32m   1344\u001b[0m             \u001b[0;31m# and added to `model_kwargs`\u001b[0m\u001b[0;34m\u001b[0m\u001b[0;34m\u001b[0m\u001b[0m\n\u001b[0;32m-> 1345\u001b[0;31m             model_kwargs = self._prepare_encoder_decoder_kwargs_for_generation(\n\u001b[0m\u001b[1;32m   1346\u001b[0m                 \u001b[0minputs_tensor\u001b[0m\u001b[0;34m,\u001b[0m \u001b[0mmodel_kwargs\u001b[0m\u001b[0;34m,\u001b[0m \u001b[0mmodel_input_name\u001b[0m\u001b[0;34m\u001b[0m\u001b[0;34m\u001b[0m\u001b[0m\n\u001b[1;32m   1347\u001b[0m             )\n",
            "\u001b[0;32m/usr/local/lib/python3.10/dist-packages/transformers/generation/utils.py\u001b[0m in \u001b[0;36m_prepare_encoder_decoder_kwargs_for_generation\u001b[0;34m(self, inputs_tensor, model_kwargs, model_input_name)\u001b[0m\n\u001b[1;32m    642\u001b[0m         \u001b[0mencoder_kwargs\u001b[0m\u001b[0;34m[\u001b[0m\u001b[0;34m\"return_dict\"\u001b[0m\u001b[0;34m]\u001b[0m \u001b[0;34m=\u001b[0m \u001b[0;32mTrue\u001b[0m\u001b[0;34m\u001b[0m\u001b[0;34m\u001b[0m\u001b[0m\n\u001b[1;32m    643\u001b[0m         \u001b[0mencoder_kwargs\u001b[0m\u001b[0;34m[\u001b[0m\u001b[0mmodel_input_name\u001b[0m\u001b[0;34m]\u001b[0m \u001b[0;34m=\u001b[0m \u001b[0minputs_tensor\u001b[0m\u001b[0;34m\u001b[0m\u001b[0;34m\u001b[0m\u001b[0m\n\u001b[0;32m--> 644\u001b[0;31m         \u001b[0mmodel_kwargs\u001b[0m\u001b[0;34m[\u001b[0m\u001b[0;34m\"encoder_outputs\"\u001b[0m\u001b[0;34m]\u001b[0m\u001b[0;34m:\u001b[0m \u001b[0mModelOutput\u001b[0m \u001b[0;34m=\u001b[0m \u001b[0mencoder\u001b[0m\u001b[0;34m(\u001b[0m\u001b[0;34m**\u001b[0m\u001b[0mencoder_kwargs\u001b[0m\u001b[0;34m)\u001b[0m\u001b[0;34m\u001b[0m\u001b[0;34m\u001b[0m\u001b[0m\n\u001b[0m\u001b[1;32m    645\u001b[0m \u001b[0;34m\u001b[0m\u001b[0m\n\u001b[1;32m    646\u001b[0m         \u001b[0;32mreturn\u001b[0m \u001b[0mmodel_kwargs\u001b[0m\u001b[0;34m\u001b[0m\u001b[0;34m\u001b[0m\u001b[0m\n",
            "\u001b[0;32m/usr/local/lib/python3.10/dist-packages/torch/nn/modules/module.py\u001b[0m in \u001b[0;36m_call_impl\u001b[0;34m(self, *args, **kwargs)\u001b[0m\n\u001b[1;32m   1499\u001b[0m                 \u001b[0;32mor\u001b[0m \u001b[0m_global_backward_pre_hooks\u001b[0m \u001b[0;32mor\u001b[0m \u001b[0m_global_backward_hooks\u001b[0m\u001b[0;34m\u001b[0m\u001b[0;34m\u001b[0m\u001b[0m\n\u001b[1;32m   1500\u001b[0m                 or _global_forward_hooks or _global_forward_pre_hooks):\n\u001b[0;32m-> 1501\u001b[0;31m             \u001b[0;32mreturn\u001b[0m \u001b[0mforward_call\u001b[0m\u001b[0;34m(\u001b[0m\u001b[0;34m*\u001b[0m\u001b[0margs\u001b[0m\u001b[0;34m,\u001b[0m \u001b[0;34m**\u001b[0m\u001b[0mkwargs\u001b[0m\u001b[0;34m)\u001b[0m\u001b[0;34m\u001b[0m\u001b[0;34m\u001b[0m\u001b[0m\n\u001b[0m\u001b[1;32m   1502\u001b[0m         \u001b[0;31m# Do not call functions when jit is used\u001b[0m\u001b[0;34m\u001b[0m\u001b[0;34m\u001b[0m\u001b[0m\n\u001b[1;32m   1503\u001b[0m         \u001b[0mfull_backward_hooks\u001b[0m\u001b[0;34m,\u001b[0m \u001b[0mnon_full_backward_hooks\u001b[0m \u001b[0;34m=\u001b[0m \u001b[0;34m[\u001b[0m\u001b[0;34m]\u001b[0m\u001b[0;34m,\u001b[0m \u001b[0;34m[\u001b[0m\u001b[0;34m]\u001b[0m\u001b[0;34m\u001b[0m\u001b[0;34m\u001b[0m\u001b[0m\n",
            "\u001b[0;32m/usr/local/lib/python3.10/dist-packages/transformers/models/bart/modeling_bart.py\u001b[0m in \u001b[0;36mforward\u001b[0;34m(self, input_ids, attention_mask, head_mask, inputs_embeds, output_attentions, output_hidden_states, return_dict)\u001b[0m\n\u001b[1;32m    861\u001b[0m                     )\n\u001b[1;32m    862\u001b[0m                 \u001b[0;32melse\u001b[0m\u001b[0;34m:\u001b[0m\u001b[0;34m\u001b[0m\u001b[0;34m\u001b[0m\u001b[0m\n\u001b[0;32m--> 863\u001b[0;31m                     layer_outputs = encoder_layer(\n\u001b[0m\u001b[1;32m    864\u001b[0m                         \u001b[0mhidden_states\u001b[0m\u001b[0;34m,\u001b[0m\u001b[0;34m\u001b[0m\u001b[0;34m\u001b[0m\u001b[0m\n\u001b[1;32m    865\u001b[0m                         \u001b[0mattention_mask\u001b[0m\u001b[0;34m,\u001b[0m\u001b[0;34m\u001b[0m\u001b[0;34m\u001b[0m\u001b[0m\n",
            "\u001b[0;32m/usr/local/lib/python3.10/dist-packages/torch/nn/modules/module.py\u001b[0m in \u001b[0;36m_call_impl\u001b[0;34m(self, *args, **kwargs)\u001b[0m\n\u001b[1;32m   1499\u001b[0m                 \u001b[0;32mor\u001b[0m \u001b[0m_global_backward_pre_hooks\u001b[0m \u001b[0;32mor\u001b[0m \u001b[0m_global_backward_hooks\u001b[0m\u001b[0;34m\u001b[0m\u001b[0;34m\u001b[0m\u001b[0m\n\u001b[1;32m   1500\u001b[0m                 or _global_forward_hooks or _global_forward_pre_hooks):\n\u001b[0;32m-> 1501\u001b[0;31m             \u001b[0;32mreturn\u001b[0m \u001b[0mforward_call\u001b[0m\u001b[0;34m(\u001b[0m\u001b[0;34m*\u001b[0m\u001b[0margs\u001b[0m\u001b[0;34m,\u001b[0m \u001b[0;34m**\u001b[0m\u001b[0mkwargs\u001b[0m\u001b[0;34m)\u001b[0m\u001b[0;34m\u001b[0m\u001b[0;34m\u001b[0m\u001b[0m\n\u001b[0m\u001b[1;32m   1502\u001b[0m         \u001b[0;31m# Do not call functions when jit is used\u001b[0m\u001b[0;34m\u001b[0m\u001b[0;34m\u001b[0m\u001b[0m\n\u001b[1;32m   1503\u001b[0m         \u001b[0mfull_backward_hooks\u001b[0m\u001b[0;34m,\u001b[0m \u001b[0mnon_full_backward_hooks\u001b[0m \u001b[0;34m=\u001b[0m \u001b[0;34m[\u001b[0m\u001b[0;34m]\u001b[0m\u001b[0;34m,\u001b[0m \u001b[0;34m[\u001b[0m\u001b[0;34m]\u001b[0m\u001b[0;34m\u001b[0m\u001b[0;34m\u001b[0m\u001b[0m\n",
            "\u001b[0;32m/usr/local/lib/python3.10/dist-packages/transformers/models/bart/modeling_bart.py\u001b[0m in \u001b[0;36mforward\u001b[0;34m(self, hidden_states, attention_mask, layer_head_mask, output_attentions)\u001b[0m\n\u001b[1;32m    330\u001b[0m         \"\"\"\n\u001b[1;32m    331\u001b[0m         \u001b[0mresidual\u001b[0m \u001b[0;34m=\u001b[0m \u001b[0mhidden_states\u001b[0m\u001b[0;34m\u001b[0m\u001b[0;34m\u001b[0m\u001b[0m\n\u001b[0;32m--> 332\u001b[0;31m         hidden_states, attn_weights, _ = self.self_attn(\n\u001b[0m\u001b[1;32m    333\u001b[0m             \u001b[0mhidden_states\u001b[0m\u001b[0;34m=\u001b[0m\u001b[0mhidden_states\u001b[0m\u001b[0;34m,\u001b[0m\u001b[0;34m\u001b[0m\u001b[0;34m\u001b[0m\u001b[0m\n\u001b[1;32m    334\u001b[0m             \u001b[0mattention_mask\u001b[0m\u001b[0;34m=\u001b[0m\u001b[0mattention_mask\u001b[0m\u001b[0;34m,\u001b[0m\u001b[0;34m\u001b[0m\u001b[0;34m\u001b[0m\u001b[0m\n",
            "\u001b[0;32m/usr/local/lib/python3.10/dist-packages/torch/nn/modules/module.py\u001b[0m in \u001b[0;36m_call_impl\u001b[0;34m(self, *args, **kwargs)\u001b[0m\n\u001b[1;32m   1499\u001b[0m                 \u001b[0;32mor\u001b[0m \u001b[0m_global_backward_pre_hooks\u001b[0m \u001b[0;32mor\u001b[0m \u001b[0m_global_backward_hooks\u001b[0m\u001b[0;34m\u001b[0m\u001b[0;34m\u001b[0m\u001b[0m\n\u001b[1;32m   1500\u001b[0m                 or _global_forward_hooks or _global_forward_pre_hooks):\n\u001b[0;32m-> 1501\u001b[0;31m             \u001b[0;32mreturn\u001b[0m \u001b[0mforward_call\u001b[0m\u001b[0;34m(\u001b[0m\u001b[0;34m*\u001b[0m\u001b[0margs\u001b[0m\u001b[0;34m,\u001b[0m \u001b[0;34m**\u001b[0m\u001b[0mkwargs\u001b[0m\u001b[0;34m)\u001b[0m\u001b[0;34m\u001b[0m\u001b[0;34m\u001b[0m\u001b[0m\n\u001b[0m\u001b[1;32m   1502\u001b[0m         \u001b[0;31m# Do not call functions when jit is used\u001b[0m\u001b[0;34m\u001b[0m\u001b[0;34m\u001b[0m\u001b[0m\n\u001b[1;32m   1503\u001b[0m         \u001b[0mfull_backward_hooks\u001b[0m\u001b[0;34m,\u001b[0m \u001b[0mnon_full_backward_hooks\u001b[0m \u001b[0;34m=\u001b[0m \u001b[0;34m[\u001b[0m\u001b[0;34m]\u001b[0m\u001b[0;34m,\u001b[0m \u001b[0;34m[\u001b[0m\u001b[0;34m]\u001b[0m\u001b[0;34m\u001b[0m\u001b[0;34m\u001b[0m\u001b[0m\n",
            "\u001b[0;32m/usr/local/lib/python3.10/dist-packages/transformers/models/bart/modeling_bart.py\u001b[0m in \u001b[0;36mforward\u001b[0;34m(self, hidden_states, key_value_states, past_key_value, attention_mask, layer_head_mask, output_attentions)\u001b[0m\n\u001b[1;32m    216\u001b[0m         \u001b[0;32melse\u001b[0m\u001b[0;34m:\u001b[0m\u001b[0;34m\u001b[0m\u001b[0;34m\u001b[0m\u001b[0m\n\u001b[1;32m    217\u001b[0m             \u001b[0;31m# self_attention\u001b[0m\u001b[0;34m\u001b[0m\u001b[0;34m\u001b[0m\u001b[0m\n\u001b[0;32m--> 218\u001b[0;31m             \u001b[0mkey_states\u001b[0m \u001b[0;34m=\u001b[0m \u001b[0mself\u001b[0m\u001b[0;34m.\u001b[0m\u001b[0m_shape\u001b[0m\u001b[0;34m(\u001b[0m\u001b[0mself\u001b[0m\u001b[0;34m.\u001b[0m\u001b[0mk_proj\u001b[0m\u001b[0;34m(\u001b[0m\u001b[0mhidden_states\u001b[0m\u001b[0;34m)\u001b[0m\u001b[0;34m,\u001b[0m \u001b[0;34m-\u001b[0m\u001b[0;36m1\u001b[0m\u001b[0;34m,\u001b[0m \u001b[0mbsz\u001b[0m\u001b[0;34m)\u001b[0m\u001b[0;34m\u001b[0m\u001b[0;34m\u001b[0m\u001b[0m\n\u001b[0m\u001b[1;32m    219\u001b[0m             \u001b[0mvalue_states\u001b[0m \u001b[0;34m=\u001b[0m \u001b[0mself\u001b[0m\u001b[0;34m.\u001b[0m\u001b[0m_shape\u001b[0m\u001b[0;34m(\u001b[0m\u001b[0mself\u001b[0m\u001b[0;34m.\u001b[0m\u001b[0mv_proj\u001b[0m\u001b[0;34m(\u001b[0m\u001b[0mhidden_states\u001b[0m\u001b[0;34m)\u001b[0m\u001b[0;34m,\u001b[0m \u001b[0;34m-\u001b[0m\u001b[0;36m1\u001b[0m\u001b[0;34m,\u001b[0m \u001b[0mbsz\u001b[0m\u001b[0;34m)\u001b[0m\u001b[0;34m\u001b[0m\u001b[0;34m\u001b[0m\u001b[0m\n\u001b[1;32m    220\u001b[0m \u001b[0;34m\u001b[0m\u001b[0m\n",
            "\u001b[0;32m/usr/local/lib/python3.10/dist-packages/torch/nn/modules/module.py\u001b[0m in \u001b[0;36m_call_impl\u001b[0;34m(self, *args, **kwargs)\u001b[0m\n\u001b[1;32m   1499\u001b[0m                 \u001b[0;32mor\u001b[0m \u001b[0m_global_backward_pre_hooks\u001b[0m \u001b[0;32mor\u001b[0m \u001b[0m_global_backward_hooks\u001b[0m\u001b[0;34m\u001b[0m\u001b[0;34m\u001b[0m\u001b[0m\n\u001b[1;32m   1500\u001b[0m                 or _global_forward_hooks or _global_forward_pre_hooks):\n\u001b[0;32m-> 1501\u001b[0;31m             \u001b[0;32mreturn\u001b[0m \u001b[0mforward_call\u001b[0m\u001b[0;34m(\u001b[0m\u001b[0;34m*\u001b[0m\u001b[0margs\u001b[0m\u001b[0;34m,\u001b[0m \u001b[0;34m**\u001b[0m\u001b[0mkwargs\u001b[0m\u001b[0;34m)\u001b[0m\u001b[0;34m\u001b[0m\u001b[0;34m\u001b[0m\u001b[0m\n\u001b[0m\u001b[1;32m   1502\u001b[0m         \u001b[0;31m# Do not call functions when jit is used\u001b[0m\u001b[0;34m\u001b[0m\u001b[0;34m\u001b[0m\u001b[0m\n\u001b[1;32m   1503\u001b[0m         \u001b[0mfull_backward_hooks\u001b[0m\u001b[0;34m,\u001b[0m \u001b[0mnon_full_backward_hooks\u001b[0m \u001b[0;34m=\u001b[0m \u001b[0;34m[\u001b[0m\u001b[0;34m]\u001b[0m\u001b[0;34m,\u001b[0m \u001b[0;34m[\u001b[0m\u001b[0;34m]\u001b[0m\u001b[0;34m\u001b[0m\u001b[0;34m\u001b[0m\u001b[0m\n",
            "\u001b[0;32m/usr/local/lib/python3.10/dist-packages/torch/nn/modules/linear.py\u001b[0m in \u001b[0;36mforward\u001b[0;34m(self, input)\u001b[0m\n\u001b[1;32m    112\u001b[0m \u001b[0;34m\u001b[0m\u001b[0m\n\u001b[1;32m    113\u001b[0m     \u001b[0;32mdef\u001b[0m \u001b[0mforward\u001b[0m\u001b[0;34m(\u001b[0m\u001b[0mself\u001b[0m\u001b[0;34m,\u001b[0m \u001b[0minput\u001b[0m\u001b[0;34m:\u001b[0m \u001b[0mTensor\u001b[0m\u001b[0;34m)\u001b[0m \u001b[0;34m->\u001b[0m \u001b[0mTensor\u001b[0m\u001b[0;34m:\u001b[0m\u001b[0;34m\u001b[0m\u001b[0;34m\u001b[0m\u001b[0m\n\u001b[0;32m--> 114\u001b[0;31m         \u001b[0;32mreturn\u001b[0m \u001b[0mF\u001b[0m\u001b[0;34m.\u001b[0m\u001b[0mlinear\u001b[0m\u001b[0;34m(\u001b[0m\u001b[0minput\u001b[0m\u001b[0;34m,\u001b[0m \u001b[0mself\u001b[0m\u001b[0;34m.\u001b[0m\u001b[0mweight\u001b[0m\u001b[0;34m,\u001b[0m \u001b[0mself\u001b[0m\u001b[0;34m.\u001b[0m\u001b[0mbias\u001b[0m\u001b[0;34m)\u001b[0m\u001b[0;34m\u001b[0m\u001b[0;34m\u001b[0m\u001b[0m\n\u001b[0m\u001b[1;32m    115\u001b[0m \u001b[0;34m\u001b[0m\u001b[0m\n\u001b[1;32m    116\u001b[0m     \u001b[0;32mdef\u001b[0m \u001b[0mextra_repr\u001b[0m\u001b[0;34m(\u001b[0m\u001b[0mself\u001b[0m\u001b[0;34m)\u001b[0m \u001b[0;34m->\u001b[0m \u001b[0mstr\u001b[0m\u001b[0;34m:\u001b[0m\u001b[0;34m\u001b[0m\u001b[0;34m\u001b[0m\u001b[0m\n",
            "\u001b[0;31mKeyboardInterrupt\u001b[0m: "
          ]
        }
      ]
    },
    {
      "cell_type": "code",
      "source": [
        "import pandas as pd\n",
        "from transformers import BartTokenizer, BartForConditionalGeneration\n",
        "\n",
        "# Load the dataset containing article links and keywords\n",
        "data = pd.read_excel(\"Dataset1.xlsx\")\n",
        "\n",
        "# Choose a pre-trained model\n",
        "model_name = \"facebook/bart-large-cnn\"\n",
        "tokenizer = BartTokenizer.from_pretrained(model_name)\n",
        "model = BartForConditionalGeneration.from_pretrained(model_name)"
      ],
      "metadata": {
        "id": "UPBlsKycAO0n"
      },
      "execution_count": null,
      "outputs": []
    },
    {
      "cell_type": "code",
      "source": [
        "\n",
        "\n",
        "def get_content_summary(text_to_summarize):\n",
        "    inputs = tokenizer.encode(\"summarize: \" + text_to_summarize, return_tensors=\"pt\", max_length=1024, truncation=True)\n",
        "    # Generate the summary\n",
        "    summary_ids = model.generate(inputs, max_length=150, min_length=50, length_penalty=2.0, num_beams=4, early_stopping=True)\n",
        "    summary = tokenizer.decode(summary_ids[0], skip_special_tokens=True)\n",
        "\n",
        "    return summary\n",
        "\n",
        "def merge_content_by_keyword(keyword):\n",
        "    matching_articles = data[data[\"snippet\"].str.contains(keyword, case=False, na=False)]\n",
        "    merged_content = \" \".join(matching_articles[\"content\"].tolist())\n",
        "    return merged_content\n",
        "\n",
        "keyword = input(\"Enter keyword to search articles: \")\n",
        "matching_articles = data[data[\"snippet\"].str.contains(keyword, case=False, na=False)]\n",
        "print(\"there are \"+len(matching_articles)+\" matching articles in the dataset\")\n",
        "\n",
        "if not matching_articles.empty:\n",
        "    for index, row in matching_articles.iterrows():\n",
        "        print(\"\\nMerged Content of Matching Articles:\\n\")\n",
        "        print(row[\"content\"])\n",
        "        print(\"\\nArticle Summary:\\n\")\n",
        "        print(get_content_summary(row[\"content\"]))\n",
        "else:\n",
        "    print(f\"No articles found with keyword: '{keyword}'.\")\n",
        "\n"
      ],
      "metadata": {
        "id": "8IYRXhcDN7zf",
        "colab": {
          "base_uri": "https://localhost:8080/",
          "height": 262
        },
        "outputId": "9cc0c7d9-6f1a-45d1-df0d-42f2ee071e2e"
      },
      "execution_count": 13,
      "outputs": [
        {
          "name": "stdout",
          "output_type": "stream",
          "text": [
            "Enter keyword to search articles: accenture\n"
          ]
        },
        {
          "output_type": "error",
          "ename": "TypeError",
          "evalue": "ignored",
          "traceback": [
            "\u001b[0;31m---------------------------------------------------------------------------\u001b[0m",
            "\u001b[0;31mTypeError\u001b[0m                                 Traceback (most recent call last)",
            "\u001b[0;32m<ipython-input-13-0a60c08c1370>\u001b[0m in \u001b[0;36m<cell line: 27>\u001b[0;34m()\u001b[0m\n\u001b[1;32m     25\u001b[0m \u001b[0mkeyword\u001b[0m \u001b[0;34m=\u001b[0m \u001b[0minput\u001b[0m\u001b[0;34m(\u001b[0m\u001b[0;34m\"Enter keyword to search articles: \"\u001b[0m\u001b[0;34m)\u001b[0m\u001b[0;34m\u001b[0m\u001b[0;34m\u001b[0m\u001b[0m\n\u001b[1;32m     26\u001b[0m \u001b[0mmatching_articles\u001b[0m \u001b[0;34m=\u001b[0m \u001b[0mdata\u001b[0m\u001b[0;34m[\u001b[0m\u001b[0mdata\u001b[0m\u001b[0;34m[\u001b[0m\u001b[0;34m\"snippet\"\u001b[0m\u001b[0;34m]\u001b[0m\u001b[0;34m.\u001b[0m\u001b[0mstr\u001b[0m\u001b[0;34m.\u001b[0m\u001b[0mcontains\u001b[0m\u001b[0;34m(\u001b[0m\u001b[0mkeyword\u001b[0m\u001b[0;34m,\u001b[0m \u001b[0mcase\u001b[0m\u001b[0;34m=\u001b[0m\u001b[0;32mFalse\u001b[0m\u001b[0;34m,\u001b[0m \u001b[0mna\u001b[0m\u001b[0;34m=\u001b[0m\u001b[0;32mFalse\u001b[0m\u001b[0;34m)\u001b[0m\u001b[0;34m]\u001b[0m\u001b[0;34m\u001b[0m\u001b[0;34m\u001b[0m\u001b[0m\n\u001b[0;32m---> 27\u001b[0;31m \u001b[0mprint\u001b[0m\u001b[0;34m(\u001b[0m\u001b[0;34m\"there are \"\u001b[0m\u001b[0;34m+\u001b[0m\u001b[0mlen\u001b[0m\u001b[0;34m(\u001b[0m\u001b[0mmatching_articles\u001b[0m\u001b[0;34m)\u001b[0m\u001b[0;34m+\u001b[0m\u001b[0;34m\" matching articles in the dataset\"\u001b[0m\u001b[0;34m)\u001b[0m\u001b[0;34m\u001b[0m\u001b[0;34m\u001b[0m\u001b[0m\n\u001b[0m\u001b[1;32m     28\u001b[0m \u001b[0;34m\u001b[0m\u001b[0m\n\u001b[1;32m     29\u001b[0m \u001b[0;32mif\u001b[0m \u001b[0;32mnot\u001b[0m \u001b[0mmatching_articles\u001b[0m\u001b[0;34m.\u001b[0m\u001b[0mempty\u001b[0m\u001b[0;34m:\u001b[0m\u001b[0;34m\u001b[0m\u001b[0;34m\u001b[0m\u001b[0m\n",
            "\u001b[0;31mTypeError\u001b[0m: can only concatenate str (not \"int\") to str"
          ]
        }
      ]
    },
    {
      "cell_type": "code",
      "source": [
        "\n",
        "\n",
        "def get_content_summary(text_to_summarize):\n",
        "    inputs = tokenizer.encode(\"summarize: \" + text_to_summarize, return_tensors=\"pt\", max_length=1024, truncation=True)\n",
        "    # Generate the summary\n",
        "    summary_ids = model.generate(inputs, max_length=150, min_length=50, length_penalty=2.0, num_beams=4, early_stopping=True)\n",
        "    summary = tokenizer.decode(summary_ids[0], skip_special_tokens=True)\n",
        "\n",
        "    return summary\n",
        "\n",
        "def merge_content_by_keyword(keyword):\n",
        "    matching_articles = data[data[\"snippet\"].str.contains(keyword, case=False, na=False)]\n",
        "    merged_content = \" \".join(str(content) for content in matching_articles[\"content\"].tolist())\n",
        "    return merged_content\n",
        "\n",
        "keyword = input(\"Enter keyword to search articles: \")\n",
        "matching_articles = data[data[\"snippet\"].str.contains(keyword, case=False, na=False)]\n",
        "print(f\"there are '{len(matching_articles)}' articles.\")\n",
        "\n",
        "if not matching_articles.empty:\n",
        "    for index, row in matching_articles.iterrows():\n",
        "        print(\"\\nMerged Content of Matching Articles:\\n\")\n",
        "        print(row[\"content\"])\n",
        "        print(\"\\nArticle Summary:\\n\")\n",
        "        print(get_content_summary(row[\"content\"]))\n",
        "else:\n",
        "    print(f\"No articles found with keyword: '{keyword}'.\")\n"
      ],
      "metadata": {
        "id": "8804_XWBN72F",
        "colab": {
          "base_uri": "https://localhost:8080/"
        },
        "outputId": "80e69338-704c-472c-9aec-c585d4969730"
      },
      "execution_count": 15,
      "outputs": [
        {
          "output_type": "stream",
          "name": "stdout",
          "text": [
            "Enter keyword to search articles: accenture\n",
            "there are '4' articles.\n",
            "\n",
            "Merged Content of Matching Articles:\n",
            "\n",
            "WESTPORT, Conn. and SANTA ANA, Calif. and FALLS CHURCH, Va. , June 21, Anser Advisory (\"Anser\" or the \"Company\"), a leading advisory and management company for infrastructure projects in the United States and a portfolio company of Sterling Investment Partners (\"Sterling\"), a leading middle market private equity firm investing in distribution and business services companies, today announced the planned sale of Anser to Accenture (NYSE: ACN ) and the concurrent spinoff of Markon, Anser's federal consulting business. Going forward, Markon will remain a Sterling portfolio company.\n",
            "Anser's services span advisory, compliance, and management services. Owners of capital projects engage Anser to advise them on how to structure, estimate and plan projects, to monitor the work being done, and to assist them in managing and executing all phases of projects. The Company works hand in hand with some of the country's most prestigious public and private owners from initial strategy and planning to project hand-over. Increasingly, clients are engaging Anser to help advance decarbonization and clean energy projects in sectors including energy transmission, distribution and storage, sustainability programs and fleet electrification.\n",
            "Markon specializes in consulting services to federal clients and leverages deep subject matter expertise across enterprise technology management, financial management, and program and construction management. Markon will continue to build on the team's meaningful experience in providing mission-critical support for a variety of federal agencies. Ray Carney , currently Chief Delivery Officer of Markon, will become its Chief Executive Officer. Matthew Dean , who founded Markon before joining Anser as its Chief Operating Officer, will serve as Chairman.\n",
            "Bryan Carruthers , Chief Executive Officer of Anser, said, \"We are thrilled to embark on this new chapter with Accenture. In partnership with Sterling, we built a leading capital program and project management advisory firm, establishing ourselves as a trusted advisor to owners of critical infrastructure and developing a track record of consistent execution on large-scale infrastructure projects. We wish our Federally focused colleagues continued success as a stand-alone business. We are incredibly appreciative of Sterling's partnership and grateful for their support as we have built the Anser platform together.\"\n",
            "Bill Macey , Managing Partner and Co-Founder of Sterling, said, \"We are very proud of our partnership with Anser and its management team and are excited for the opportunities that Anser, its management, and its employees will have as part of Accenture. We are also excited for the opportunity to continue to build Markon, an organization with a demonstrated track record of success and innovation, in partnership with management.\"\n",
            "James Soldano , Partner at Sterling, added, \"During our partnership with Anser, we have built a dynamically growing and industry-leading platform through a combination of successful organic and M&A initiatives, and we believe the Company is very well positioned for ongoing success with Accenture. We look forward to our continued partnership with Markon's talented management team as they continue to build a market-leading platform dedicated to providing critical consulting services to the federal sector.\"\n",
            "Ray Carney , future Chief Executive Officer of Markon, said, \"We are thrilled to launch Markon's next chapter and are honored to be working alongside such a talented and experienced team. We remain deeply committed to meeting the evolving needs of our clients through innovative solutions that support national security. Sterling's continued partnership will enable us to deliver on these commitments as we continue our organization's growth in the years to come.\"\n",
            "Houlihan Lokey served as financial advisor to Anser, AEC Advisors provided financial advisory services in connection with the spinoff of Markon, and EFCG served as integration advisor to Anser in connection with its sale to Accenture. Dechert LLP served as legal adviser to Anser and Sterling.\n",
            "About Sterling Investment Partners\n",
            "Sterling Investment Partners is a private equity firm investing in and building middle-market companies for over 30 years with a highly experienced, cohesive team of senior investment professionals. Sterling focuses on value-added distribution and business services, acquiring businesses that the firm believes have strong, sustainable competitive advantages and significant opportunities for value creation. Over its history, Sterling has completed over 220 transactions, representing approximately $28 billion in aggregate value. www.sterlinglp.com .\n",
            "Media Contacts\n",
            "For Markon: Juliana Lee [email protected]\n",
            "For Sterling Investment Partners: David Kahn Senior Managing Director, Business Development [email protected]\n",
            "SOURCE Sterling Investment Partners\n",
            "\n",
            "Article Summary:\n",
            "\n",
            "Anser Advisory is a leading advisory and management company for infrastructure projects in the United States. Sterling Investment Partners, a leading middle market private equity firm, is selling Anser to Accenture. Anser's federal consulting business, Markon, will be spun off as a Sterling portfolio company.\n",
            "\n",
            "Merged Content of Matching Articles:\n",
            "\n",
            "Ottawa’s $208-million outsourcing agreement with consulting firm Accenture Inc. to deliver the pandemic support program for businesses was a sole-source contract, the government has confirmed. The Irish-American company’s contract to administer the Canada Emergency Business Account (CEBA) program was revealed by The Globe and Mail in February. After an access-to-information request , weeks of back-and-forth with the government and questions from parliamentarians in the House of Commons and the Senate, Ottawa has finally provided more details of the agreement.\n",
            "The government told The Globe it was a sole-source contract because Ottawa believed a formal procurement process would take too long.\n",
            "“When the COVID-19 pandemic hit, the federal government acted swiftly to provide emergency support and ensure that Canadians and Canadian businesses could weather the storm,” said Katherine Cuplinskas, press secretary for Finance Minister Chrystia Freeland, in an e-mail.\n",
            "CEBA was the first and most widely used pandemic support for businesses. It was launched April 9, 2020, and provided partly forgivable loans of as much as $60,000 to almost 900,000 businesses. Some $49-billion in credit was extended to those enterprises through their financial institutions, and many entrepreneurs have credited the program with providing a crucial lifeline during the uncertainty of the first COVID-19 lockdowns.\n",
            "Ottawa originally assigned the program to Export Development Canada, a Crown corporation that provides credit to Canadian businesses doing work abroad. EDC was given the task because it is the steward of the Canada Account, a mechanism to lend money to businesses that EDC would otherwise deem too risky to support.\n",
            "But EDC said it did not have the internal capacity to operate a loan program of that scale, so it outsourced much of the implementation to Accenture.\n",
            "The Finance Department told The Globe EDC chose Accenture to deliver CEBA because the two had worked together before. EDC said it operates at “arm’s length” from the government and “made the full decision” to award the contract to Accenture.\n",
            "Accenture declined to comment on the agreement.\n",
            "Although Accenture is widely known as one of the largest management-consulting companies in the world, both the Finance Department and EDC said the company provided technology and staffing services, “not consultant advice.”\n",
            "The contract has never been included in the government’s proactive-disclosure database, nor in lists tabled in Parliament of contracts awarded during the pandemic.\n",
            "After The Globe’s reporting earlier this year, parliamentarians in opposition parties filed requests to the government for more information about the contract.\n",
            "According to documents filed in the House and the Senate, the agreement with Accenture actually comprises a total of 31 contracts to deliver CEBA, some of which were extensions of earlier agreements. The earliest was for $1-million on April 8, 2020, to set up a program to connect Ottawa with 230 financial institutions, as businesses applied for the CEBA loans through their banks or credit unions.\n",
            "The most recent contract on the list was for $4,976,050, on Feb. 1, to continue funding the CEBA call centre and prepare it for collecting the loans. Businesses that pay back their CEBA loans by Dec. 31 get part of the loans forgiven. The final deadline to pay them back in full is Dec. 31, 2025.\n",
            "The total value of all CEBA contracts awarded to Accenture is $208-million, and they run until February, 2024, according to the documents.\n",
            "That is larger than any other contract given to a major consulting firm in Ottawa’s public database of contracts. The next biggest is a $203-million, multiyear, competitive contract awarded to Deloitte to modernize the Old Age Security payment system. The largest previously awarded to Accenture was a $130-million, six-year, competitive contract it was given in 2016 for management consulting for Public Services and Procurement Canada.\n",
            "Opposition politicians expressed frustration with how difficult it has been to get information about the contract.\n",
            "“The government has been clear as mud on this file,” said Conservative Senator Yonah Martin. “Nothing was done proactively, and still to this day we aren’t getting the full story.”\n",
            "NDP MP Gord Johns said he understands the explanation for the sole-source contract, but he believes the government should have found a way to eventually bring the program into the public service rather than rely on outside contractors for years.\n",
            "“It certainly demonstrates the lack of capacity and ability to pivot within the federal government,” he said.\n",
            "The Finance Department said Accenture currently has 129 employees working on CEBA. Four are based in the United States, and the rest are in Canada. EDC said it has 15 staff working on the program.\n",
            "\n",
            "Article Summary:\n",
            "\n",
            "Accenture's contract to administer the Canada Emergency Business Account was revealed by The Globe and Mail in February. The government told The Globe it was a sole-source contract because Ottawa believed a formal procurement process would take too long. The contract has never been included in the government’s proactive-disclosure database, nor in lists tabled in Parliament.\n",
            "\n",
            "Merged Content of Matching Articles:\n",
            "\n",
            "NEW YORK & SUNNYVALE, Calif.- Through a strategic expansion of their relationship, Accenture (NYSE: ACN) and Google Cloud will help organizations reinvent their businesses with generative AI to unlock new growth opportunities, supported by substantial new investments by Accenture.\n",
            "Today’s expansion builds on Accenture’s recently announced $3 billion investment in AI . Together, Accenture and Google Cloud will help organizations use generative AI to create new opportunities to drive next-level innovation, optimization and reinvention. Building on the combination of capabilities and talent within the Accenture Google Business Group and Google Cloud’s leading AI products (including Vertex AI, Generative AI App Builder and more), the companies will guide organizations on the optimal use of generative AI to address specific business needs securely, responsibly, and at scale.\n",
            "“Generative AI is already transforming how people work and access information and will dramatically amplify what humans can achieve,” said Julie Sweet, chair and CEO, Accenture. “Our expanded partnership with Google Cloud will help our clients across industries responsibly accelerate adoption of generative AI throughout their enterprises to maximize efficiency, drive competitive advantage, and reach new levels of performance.”\n",
            "“Generative AI has the ability to help businesses fundamentally improve how they operate, whether it is optimizing supply chains to be more sustainable or mitigating cybersecurity threats based on information from billions of security events,” said Thomas Kurian, CEO, Google Cloud. “Together with Accenture, we will provide businesses with the advanced technology and expertise they need to help transform their organizations and realize value from their generative AI deployments.”\n",
            "Under the expanded partnership, the companies will co-develop new solutions leveraging Accenture’s industry and functional experience and Google Cloud’s suite of generative AI technologies. The companies will focus on improving business processes across 19 industries and six business functions, with a strategic focus on sales and marketing, supply chain, healthcare, retail and consumer packaged goods, financial services, sustainability, security, and operational services. Examples include:\n",
            "Tailored marketing and customer experiences : The two companies will use generative AI to help businesses create hyper-personalized advertisements and digital content, deliver customized dynamic pricing, and reinvent their interactions with their end consumers. Supply chain optimization : Accenture and Google Cloud will use generative AI to help customers predict optimal inventory levels to minimize storage costs, improve shipping routes to reduce gas consumption, and anticipate delivery dates and delays to increase customer satisfaction. Additionally, Accenture will expand the supply chain functionality in its retail solution, which is now using Google Cloud’s large language models (LLMs) to help businesses optimize their customer, workforce, and storefront experiences. Healthcare process improvement : Accenture will use a variety of Google’s LLMs, tuned to health care, to develop solutions to help improve operational efficiency, caregiver support, patient engagement, and research and development. Accenture is also addressing critical healthcare challenges with Google Cloud’s technologies and using the AI-enabled Claims Acceleration Suite to streamline health insurance and prior authorization claims processing by transforming data, enabling clinicians to make faster, more informed decisions. Security risk mitigation : The Accenture Adaptive Detection and Response Service was the first to use Google Cloud’s specialized security LLM, Sec-PaLM, which is trained on billions of cybersecurity data signals and helps customers protect critical assets and stay ahead of cyber threats. The service also includes Google Cloud’s Chronicle Security Operations technology, enabling businesses to mitigate cybersecurity incidents in real-time, such as malware, phishing, distributed denial of service (DDoS) attacks, and trends that may indicate a security breach. Software code generation : Accenture is working with Google Cloud's Foundational Model for code, Codey, to complement Accenture’s existing software engineering capabilities. Codey helps accelerate software development for code generation, code chat, and code completion. To further extend its cybersecurity position, Lendlease, a global real estate group with core expertise in shaping cities and creating thriving communities, is using Accenture’s Adaptive Detection and Response service, built on Google Cloud technologies, to increase agility and allow it to simplify its security operations through greater transparency, flexibility and scale.\n",
            "“Having next-generation cybersecurity detection and response capabilities is critical for Lendlease to create connected communities and deliver workplaces of the future around the world,” said William Ruh, CEO, Lendlease Digital. “The Google Cloud generative AI technology within the Accenture service will allow us to optimize our security operations and infuse cyber resilience into the core of our business.”\n",
            "As part of the expanded partnership, a dedicated team of generative AI engineering experts from both companies will be aligned to Accenture Innovation Hubs in key locations around the world, including Bangalore, Dubai, Dublin, London, Melbourne, Milan, Munich, New York, Paris, San Francisco, São Paulo, Singapore, and Sydney. Leveraging the Accenture Center for Advanced AI, the hubs will host rapid experimentation and prototyping sessions to help clients unlock value from generative AI in days, rather than weeks or months.\n",
            "Accenture and Google Cloud are investing in a new integrated training curriculum to accelerate generative AI expertise within Accenture, scaling the resources available to businesses on their digital transformation journeys. The companies are also launching a joint AI Ambassador certification program that will provide specialized training in LLMs and building disruptive solutions. Accenture and Google Cloud's responsible AI practices will be at the core of this collaboration to help address bias, data protection and appropriate data use in order to create a foundation for trust.\n",
            "Beyond the partnership, Accenture is also using Google Cloud in its own enterprise architecture to enable its data-driven business. Accenture’s global IT organization partnered with Google Cloud to deploy a modern data platform for faster, more secure and scalable capabilities positioning Accenture for generative AI expansion.\n",
            "About Accenture\n",
            "Accenture is a leading global professional services company that helps the world’s leading businesses, governments and other organizations build their digital core, optimize their operations, accelerate revenue growth and enhance citizen services—creating tangible value at speed and scale. We are a talent and innovation led company with 738,000 people serving clients in more than 120 countries. Technology is at the core of change today, and we are one of the world’s leaders in helping drive that change, with strong ecosystem relationships. We combine our strength in technology with unmatched industry experience, functional expertise and global delivery capability. We are uniquely able to deliver tangible outcomes because of our broad range of services, solutions and assets across Strategy & Consulting, Technology, Operations, Industry X and Accenture Song. These capabilities, together with our culture of shared success and commitment to creating 360° value, enable us to help our clients succeed and build trusted, lasting relationships. We measure our success by the 360° value we create for our clients, each other, our shareholders, partners and communities. Visit us at www.accenture.com/us-en .\n",
            "About Google Cloud\n",
            "Google Cloud accelerates every organization’s ability to digitally transform its business and industry. We deliver enterprise-grade solutions that leverage Google’s cutting-edge technology, and tools that help developers build more sustainably. Customers in more than 200 countries and territories turn to Google Cloud as their trusted partner to enable growth and solve their most critical business problems.\n",
            "Copyright © 2023 Accenture. All rights reserved. Accenture and its logo are trademarks of Accenture.\n",
            "Contacts Mylissa Tsai\n",
            "Accenture\n",
            "+1 617 488 7932\n",
            "mylissa.tsai@accenture.com\n",
            "Ryan Styrk\n",
            "Google Cloud\n",
            "styrk@google.com\n",
            "\n",
            "Article Summary:\n",
            "\n",
            "Accenture and Google Cloud will help organizations use generative AI to create new opportunities to drive next-level innovation, optimization and reinvention. The companies will focus on improving business processes across 19 industries and six business functions, with a strategic focus on sales and marketing, supply chain, healthcare, and sustainability.\n",
            "\n",
            "Merged Content of Matching Articles:\n",
            "\n",
            "Policy, digital currency and technology staff additions follow a successful year of growth for the DDP\n",
            "WASHINGTON , Jan. 12, 2023 /PRNewswire/ -- The Digital Dollar Project (\"DDP\"), a non-profit focused on catalyzing the public discussion around a U.S. CBDC, today announced new hires to support the strategic growth of its policy research and experimentation teams.\n",
            "\"DDP is growing to meet the domestic challenges of varying advances in the international development of central bank digital currencies and these new executives have strategically worked in the middle of central banking, technology, and global money development for decades,\" said Jennifer Lassiter , Executive Director of the Digital Dollar Project . We are actively engaging with private sector leaders, academia, and policymakers and gearing up for additional experimentation support. This team brings the passion and talent needed to aid leaders as CBDC research continues in the U.S. and develops abroad.\"\n",
            "Michael Greco joins as Policy Research Director. Michael's insights and in-depth knowledge of technology and global financial services will be instrumental in the DDP's development. Prior to this role, he was the Government Relations Policy Manager for a global enterprise software company and previously worked in policy management for a leading global professional services company.\n",
            "Shaun Ferrari joins as Industry Engagement and Experimentation Director. With high levels of expertise in strategic direction and policy formulation, Shaun's tenure stretches from holding the role of Vice President at a central bank conference and relationship management agency to spending 16 years overseeing bank operations and currency issuance strategies for the Board of Governors of the Federal Reserve System.\n",
            "Mason Rowley joins as Operations Manager. Mason has previous experience in international relations, governance, banking, education, team management, and task administration. Gaining expertise across various roles, both abroad and nationally, she obtained her Master's in International Studies from the University of Wyoming .\n",
            "Katherine Haar joins as a DDP Fellow in the role of strategy and operations. Katherine hails from a leading global professional services company where she focuses on blockchain business solutioning for digital currency. Katherine has previous experience with banking institutions and approaches to the future of money, as well as experience in international microfinance, focused on stimulating economies through local entrepreneurship.\n",
            "With the accelerated growth of worldwide CBDC research, experimentation and deployment, DDP's new leadership team is poised to expand DDP's 2022 accomplishments including:\n",
            "The completion of the first private sector initiated CBDC pilot with the Depository Trust & Clearing Corporation (DTCC), focused on understanding how a digital dollar might operate in the U.S clearing and settlement infrastructure by leveraging distributed ledger technology (DLT). The establishment of the Open Digital Currency Initiative (ODCI), which created an open community dedicated to experimentation, information sharing and discussion around CBDCs. The launch of the Technical Sandbox Program , a tech-neutral environment for the private sector to explore potential design choices and impacts of a U.S. CBDC. The development of working groups , designed to address important and impactful issues to be addressed in developing a CBDC, such as Privacy, Risk, National Security, Small Banks and Businesses, and others. The organization and assembly of global convenings around CBDC discussions , meant to ensure a diverse expert community involved in key decision points and the research of a digital dollar. Additional research efforts on inclusion, privacy, risk, and national security as it relates to the future of money are under development, as are new resources for DDP partners and policymakers. The DDP is committed to providing federal and state governments, policymakers, and private sector organizations with a stronger, clearer picture of what implementing a CBDC in the U.S. would look like, and to answering important questions of what a roll-out might entail across retail, wholesale, and international use cases.\n",
            "About The Digital Dollar Project (DDP)A nonprofit organization, The Digital Dollar Project was created to encourage research and public discussion on the potential advantages and challenges of a U.S. CBDC — or a \"digital dollar.\" The DDP will identify options for a CBDC solution to help enhance monetary policy effectiveness and financial stability; provide needed scalability, security and privacy in retail, wholesale and international payments; and integrate with existing financial infrastructures. The DDP believes it is key and will facilitate opportunities for the U.S. to engage in international standard-setting regardless of whether the U.S. eventually issues a CBDC or not.\n",
            "For more information on The Digital Dollar Project, please visit https://digitaldollarproject.org\n",
            "View original content to download multimedia: https://www.prnewswire.com/news-releases/digital-dollar-project-hires-key-staffers-to-expand-us-cbdc-exploration-in-2023-301720492.html\n",
            "SOURCE Digital Dollar Project\n",
            "\n",
            "Article Summary:\n",
            "\n",
            "The Digital Dollar Project (\"DDP\") announced new hires to support the strategic growth of its policy research and experimentation teams. Michael Greco joins as Policy Research Director. Shaun Ferrari joins as Industry Engagement and Experimentation Director. Katherine Haar joins as a DDP Fellow in the role of strategy and operations.\n"
          ]
        }
      ]
    },
    {
      "cell_type": "code",
      "source": [],
      "metadata": {
        "id": "1lePcJ7KN75o"
      },
      "execution_count": null,
      "outputs": []
    }
  ]
}